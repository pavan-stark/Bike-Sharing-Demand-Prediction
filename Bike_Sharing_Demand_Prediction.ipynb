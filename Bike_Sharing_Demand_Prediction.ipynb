{
  "nbformat": 4,
  "nbformat_minor": 0,
  "metadata": {
    "colab": {
      "private_outputs": true,
      "provenance": [],
      "collapsed_sections": [
        "PBTbrJXOngz2",
        "8yEUt7NnHlrM",
        "tEA2Xm5dHt1r",
        "I79__PHVH19G",
        "Ou-I18pAyIpj",
        "fF3858GYyt-u",
        "4_0_7-oCpUZd",
        "hwyV_J3ipUZe",
        "3yB-zSqbpUZe",
        "dEUvejAfpUZe",
        "Fd15vwWVpUZf",
        "bn_IUdTipZyH",
        "49K5P_iCpZyH",
        "Nff-vKELpZyI",
        "kLW572S8pZyI",
        "dWbDXHzopZyI",
        "7wuGOrhz0itI",
        "id1riN9m0vUs",
        "578E2V7j08f6",
        "89xtkJwZ18nB",
        "67NQN5KX2AMe",
        "Iwf50b-R2tYG",
        "GMQiZwjn3iu7",
        "WVIkgGqN3qsr",
        "XkPnILGE3zoT",
        "Hlsf0x5436Go",
        "mT9DMSJo4nBL",
        "c49ITxTc407N",
        "OeJFEK0N496M",
        "9ExmJH0g5HBk",
        "cJNqERVU536h",
        "k5UmGsbsOxih",
        "T0VqWOYE6DLQ",
        "qBMux9mC6MCf",
        "-oLEiFgy-5Pf",
        "C74aWNz2AliB",
        "2DejudWSA-a0",
        "pEMng2IbBLp7",
        "rAdphbQ9Bhjc",
        "TNVZ9zx19K6k",
        "nqoHp30x9hH9",
        "rMDnDkt2B6du",
        "yiiVWRdJDDil",
        "1UUpS68QDMuG",
        "kexQrXU-DjzY",
        "T5CmagL3EC8N",
        "BhH2vgX9EjGr",
        "qjKvONjwE8ra",
        "P1XJ9OREExlT",
        "VFOzZv6IFROw",
        "TIqpNgepFxVj",
        "ArJBuiUVfxKd",
        "4qY1EAkEfxKe",
        "PiV4Ypx8fxKe",
        "TfvqoZmBfxKf",
        "dJ2tPlVmpsJ0",
        "JWYfwnehpsJ1",
        "-jK_YjpMpsJ2",
        "HAih1iBOpsJ2",
        "zVGeBEFhpsJ2",
        "bmKjuQ-FpsJ3",
        "Fze-IPXLpx6K",
        "7AN1z2sKpx6M",
        "9PIHJqyupx6M",
        "_-qAgymDpx6N",
        "Z-hykwinpx6N",
        "h_CCil-SKHpo",
        "cBFFvTBNJzUa",
        "HvGl1hHyA_VK",
        "iW_Lq9qf2h6X",
        "-Kee-DAl2viO",
        "gIfDvo9L0UH2"
      ],
      "include_colab_link": true
    },
    "kernelspec": {
      "name": "python3",
      "display_name": "Python 3"
    },
    "language_info": {
      "name": "python"
    }
  },
  "cells": [
    {
      "cell_type": "markdown",
      "metadata": {
        "id": "view-in-github",
        "colab_type": "text"
      },
      "source": [
        "<a href=\"https://colab.research.google.com/github/pavan-stark/Bike-Sharing-Demand-Prediction/blob/main/Bike_Sharing_Demand_Prediction.ipynb\" target=\"_parent\"><img src=\"https://colab.research.google.com/assets/colab-badge.svg\" alt=\"Open In Colab\"/></a>"
      ]
    },
    {
      "cell_type": "markdown",
      "source": [
        "# **Project Name**    - Bike Sharing Demand Prediction\n",
        "\n"
      ],
      "metadata": {
        "id": "vncDsAP0Gaoa"
      }
    },
    {
      "cell_type": "markdown",
      "source": [
        "##### **Project Type**    - Regression\n",
        "##### **Contribution**    - M.Pavan Kalyan"
      ],
      "metadata": {
        "id": "beRrZCGUAJYm"
      }
    },
    {
      "cell_type": "markdown",
      "source": [
        "# **Project Summary -**"
      ],
      "metadata": {
        "id": "FJNUwmbgGyua"
      }
    },
    {
      "cell_type": "markdown",
      "source": [
        "Write the summary here within 500-600 words."
      ],
      "metadata": {
        "id": "F6v_1wHtG2nS"
      }
    },
    {
      "cell_type": "markdown",
      "source": [
        "# **GitHub Link -**"
      ],
      "metadata": {
        "id": "w6K7xa23Elo4"
      }
    },
    {
      "cell_type": "markdown",
      "source": [
        "Provide your GitHub Link here."
      ],
      "metadata": {
        "id": "h1o69JH3Eqqn"
      }
    },
    {
      "cell_type": "markdown",
      "source": [
        "# **Problem Statement**\n"
      ],
      "metadata": {
        "id": "yQaldy8SH6Dl"
      }
    },
    {
      "cell_type": "markdown",
      "source": [
        "**Write Problem Statement Here.**"
      ],
      "metadata": {
        "id": "DpeJGUA3kjGy"
      }
    },
    {
      "cell_type": "markdown",
      "source": [
        "# **General Guidelines** : -  "
      ],
      "metadata": {
        "id": "mDgbUHAGgjLW"
      }
    },
    {
      "cell_type": "markdown",
      "source": [
        "1.   Well-structured, formatted, and commented code is required.\n",
        "2.   Exception Handling, Production Grade Code & Deployment Ready Code will be a plus. Those students will be awarded some additional credits.\n",
        "     \n",
        "     The additional credits will have advantages over other students during Star Student selection.\n",
        "       \n",
        "             [ Note: - Deployment Ready Code is defined as, the whole .ipynb notebook should be executable in one go\n",
        "                       without a single error logged. ]\n",
        "\n",
        "3.   Each and every logic should have proper comments.\n",
        "4. You may add as many number of charts you want. Make Sure for each and every chart the following format should be answered.\n",
        "        \n",
        "\n",
        "```\n",
        "# Chart visualization code\n",
        "```\n",
        "            \n",
        "\n",
        "*   Why did you pick the specific chart?\n",
        "*   What is/are the insight(s) found from the chart?\n",
        "* Will the gained insights help creating a positive business impact?\n",
        "Are there any insights that lead to negative growth? Justify with specific reason.\n",
        "\n",
        "5. You have to create at least 15 logical & meaningful charts having important insights.\n",
        "\n",
        "\n",
        "[ Hints : - Do the Vizualization in  a structured way while following \"UBM\" Rule.\n",
        "\n",
        "U - Univariate Analysis,\n",
        "\n",
        "B - Bivariate Analysis (Numerical - Categorical, Numerical - Numerical, Categorical - Categorical)\n",
        "\n",
        "M - Multivariate Analysis\n",
        " ]\n",
        "\n",
        "\n",
        "\n",
        "\n",
        "\n",
        "6. You may add more ml algorithms for model creation. Make sure for each and every algorithm, the following format should be answered.\n",
        "\n",
        "\n",
        "*   Explain the ML Model used and it's performance using Evaluation metric Score Chart.\n",
        "\n",
        "\n",
        "*   Cross- Validation & Hyperparameter Tuning\n",
        "\n",
        "*   Have you seen any improvement? Note down the improvement with updates Evaluation metric Score Chart.\n",
        "\n",
        "*   Explain each evaluation metric's indication towards business and the business impact pf the ML model used.\n",
        "\n",
        "\n",
        "\n",
        "\n",
        "\n",
        "\n",
        "\n",
        "\n",
        "\n",
        "\n",
        "\n",
        "\n",
        "\n",
        "\n",
        "\n",
        "\n",
        "\n",
        "\n"
      ],
      "metadata": {
        "id": "ZrxVaUj-hHfC"
      }
    },
    {
      "cell_type": "markdown",
      "source": [
        "# ***Let's Begin !***"
      ],
      "metadata": {
        "id": "O_i_v8NEhb9l"
      }
    },
    {
      "cell_type": "markdown",
      "source": [
        "## ***1. Know Your Data***"
      ],
      "metadata": {
        "id": "HhfV-JJviCcP"
      }
    },
    {
      "cell_type": "markdown",
      "source": [
        "### Import Libraries"
      ],
      "metadata": {
        "id": "Y3lxredqlCYt"
      }
    },
    {
      "cell_type": "code",
      "source": [
        "# Import Libraries\n",
        "# Import Libraries\n",
        "import pandas as pd\n",
        "import numpy as np\n",
        "import matplotlib.pyplot as plt\n",
        "%matplotlib inline\n",
        "import seaborn as sns\n",
        "\n",
        "from datetime import datetime\n",
        "import datetime as dt\n",
        "\n",
        "from sklearn.model_selection import train_test_split,cross_validate,GridSearchCV,RandomizedSearchCV\n",
        "\n",
        "from sklearn.preprocessing import MinMaxScaler,OneHotEncoder,OrdinalEncoder,LabelEncoder\n",
        "\n",
        "from sklearn.linear_model import LinearRegression,Lasso,Ridge,ElasticNet\n",
        "\n",
        "from sklearn.metrics import accuracy_score,mean_absolute_error,mean_squared_error,r2_score,log_loss\n",
        "\n",
        "import warnings\n",
        "warnings.filterwarnings('ignore')\n"
      ],
      "metadata": {
        "id": "M8Vqi-pPk-HR"
      },
      "execution_count": null,
      "outputs": []
    },
    {
      "cell_type": "markdown",
      "source": [
        "### Dataset Loading"
      ],
      "metadata": {
        "id": "3RnN4peoiCZX"
      }
    },
    {
      "cell_type": "code",
      "source": [
        "from google.colab import drive\n",
        "drive.mount('/content/drive')"
      ],
      "metadata": {
        "id": "0GL9IvNt4fIa"
      },
      "execution_count": null,
      "outputs": []
    },
    {
      "cell_type": "code",
      "source": [
        "# Load Dataset\n",
        "df=pd.read_csv('/content/drive/MyDrive/Colab Notebooks/dastaset/SeoulBikeData.csv',encoding='latin')"
      ],
      "metadata": {
        "id": "4CkvbW_SlZ_R"
      },
      "execution_count": null,
      "outputs": []
    },
    {
      "cell_type": "markdown",
      "source": [
        "### Dataset First View"
      ],
      "metadata": {
        "id": "x71ZqKXriCWQ"
      }
    },
    {
      "cell_type": "code",
      "source": [
        "# Dataset First Look\n",
        "df.head()"
      ],
      "metadata": {
        "id": "LWNFOSvLl09H"
      },
      "execution_count": null,
      "outputs": []
    },
    {
      "cell_type": "markdown",
      "source": [
        "### Dataset Rows & Columns count"
      ],
      "metadata": {
        "id": "7hBIi_osiCS2"
      }
    },
    {
      "cell_type": "code",
      "source": [
        "# Dataset Rows & Columns count\n",
        "df.shape"
      ],
      "metadata": {
        "id": "Kllu7SJgmLij"
      },
      "execution_count": null,
      "outputs": []
    },
    {
      "cell_type": "markdown",
      "source": [
        "### Dataset Information"
      ],
      "metadata": {
        "id": "JlHwYmJAmNHm"
      }
    },
    {
      "cell_type": "code",
      "source": [
        "# Dataset Info\n",
        "df.info()"
      ],
      "metadata": {
        "id": "e9hRXRi6meOf"
      },
      "execution_count": null,
      "outputs": []
    },
    {
      "cell_type": "markdown",
      "source": [
        "#### Duplicate Values"
      ],
      "metadata": {
        "id": "35m5QtbWiB9F"
      }
    },
    {
      "cell_type": "code",
      "source": [
        "# Dataset Duplicate Value Count\n",
        "df.duplicated().sum()"
      ],
      "metadata": {
        "id": "1sLdpKYkmox0"
      },
      "execution_count": null,
      "outputs": []
    },
    {
      "cell_type": "markdown",
      "source": [
        "#### Missing Values/Null Values"
      ],
      "metadata": {
        "id": "PoPl-ycgm1ru"
      }
    },
    {
      "cell_type": "code",
      "source": [
        "# Missing Values/Null Values Count\n",
        "df.isnull().sum()"
      ],
      "metadata": {
        "id": "GgHWkxvamxVg"
      },
      "execution_count": null,
      "outputs": []
    },
    {
      "cell_type": "code",
      "source": [
        "# Visualizing the missing values\n",
        "import missingno as msno\n",
        "msno.bar(df)\n",
        "\n"
      ],
      "metadata": {
        "id": "3q5wnI3om9sJ"
      },
      "execution_count": null,
      "outputs": []
    },
    {
      "cell_type": "markdown",
      "source": [
        "### What did you know about your dataset?"
      ],
      "metadata": {
        "id": "H0kj-8xxnORC"
      }
    },
    {
      "cell_type": "markdown",
      "source": [
        "The dataset contains information about bike rentals over a year, encompassing 8,760 hourly entries. It encompasses various factors affecting rentals, including temperature, humidity, wind speed, visibility, dew point, solar radiation, rainfall, and snowfall. Columns like \"Seasons,\" \"Holiday,\" and \"Functioning Day\" provide context. There are no missing values. This data could be utilized for predictive analysis, understanding rental patterns, and exploring the interplay of weather and other variables on bike usage."
      ],
      "metadata": {
        "id": "gfoNAAC-nUe_"
      }
    },
    {
      "cell_type": "markdown",
      "source": [
        "## ***2. Understanding Your Variables***"
      ],
      "metadata": {
        "id": "nA9Y7ga8ng1Z"
      }
    },
    {
      "cell_type": "code",
      "source": [
        "# Dataset Columns\n",
        "df.columns"
      ],
      "metadata": {
        "id": "j7xfkqrt5Ag5"
      },
      "execution_count": null,
      "outputs": []
    },
    {
      "cell_type": "code",
      "source": [
        "# Dataset Describe\n",
        "df.describe(include='all')"
      ],
      "metadata": {
        "id": "DnOaZdaE5Q5t"
      },
      "execution_count": null,
      "outputs": []
    },
    {
      "cell_type": "code",
      "source": [
        "# Renaming Columns\n",
        "df=df.rename(columns={'Rented Bike Count':'Rented_Bike_Count',\n",
        "                                'Temperature(°C)':'Temperature',\n",
        "                                'Humidity(%)':'Humidity',\n",
        "                                'Wind speed (m/s)':'Wind_speed',\n",
        "                                'Visibility (10m)':'Visibility',\n",
        "                                'Dew point temperature(°C)':'Dew_point_temperature',\n",
        "                                'Solar Radiation (MJ/m2)':'Solar_Radiation',\n",
        "                                'Rainfall(mm)':'Rainfall',\n",
        "                                'Snowfall (cm)':'Snowfall',\n",
        "                                'Functioning Day':'Functioning_Day'})"
      ],
      "metadata": {
        "id": "wKSTHjS76uHi"
      },
      "execution_count": null,
      "outputs": []
    },
    {
      "cell_type": "markdown",
      "source": [
        "### Variables Description"
      ],
      "metadata": {
        "id": "PBTbrJXOngz2"
      }
    },
    {
      "cell_type": "markdown",
      "source": [
        "Certainly! Here's a description of the variables in the dataset after renaming the columns:\n",
        "\n",
        "1. **Date**: The date of the recorded data.\n",
        "2. **Rented_Bike_Count**: The number of bikes rented during that hour.\n",
        "3. **Hour**: The hour of the day when the data was recorded.\n",
        "4. **Temperature**: The temperature in degrees Celsius.\n",
        "5. **Humidity**: The humidity percentage.\n",
        "6. **Wind_speed**: The wind speed in meters per second.\n",
        "7. **Visibility**: Visibility in meters.\n",
        "8. **Dew_point_temperature**: The dew point temperature in degrees Celsius.\n",
        "9. **Solar_Radiation**: The amount of solar radiation in mega joules per square meter.\n",
        "10. **Rainfall**: The amount of rainfall in millimeters.\n",
        "11. **Snowfall**: The amount of snowfall in centimeters.\n",
        "12. **Seasons**: The season at the time of recording (e.g., Winter, Spring, Summer, Fall).\n",
        "13. **Holiday**: Indicates whether it was a holiday (Yes or No).\n",
        "14. **Functioning_Day**: Indicates whether it was a functioning workday (Yes or No).\n",
        "\n",
        "These variables capture various aspects of weather conditions, temporal information, and contextual factors that could influence bike rental patterns."
      ],
      "metadata": {
        "id": "aJV4KIxSnxay"
      }
    },
    {
      "cell_type": "markdown",
      "source": [
        "### Check Unique Values for each variable."
      ],
      "metadata": {
        "id": "u3PMJOP6ngxN"
      }
    },
    {
      "cell_type": "code",
      "source": [
        "# Check Unique Values for each variable.\n",
        "for var in df.columns:\n",
        "  print(var,' : ', df[var].unique())\n",
        "  print('--'*70)"
      ],
      "metadata": {
        "id": "zms12Yq5n-jE"
      },
      "execution_count": null,
      "outputs": []
    },
    {
      "cell_type": "code",
      "source": [
        "# Number of Unique values in each columns\n",
        "df.nunique()"
      ],
      "metadata": {
        "id": "iwH4f7nx7AOx"
      },
      "execution_count": null,
      "outputs": []
    },
    {
      "cell_type": "markdown",
      "source": [
        "## 3. ***Data Wrangling***"
      ],
      "metadata": {
        "id": "dauF4eBmngu3"
      }
    },
    {
      "cell_type": "markdown",
      "source": [
        "### Data Wrangling Code"
      ],
      "metadata": {
        "id": "bKJF3rekwFvQ"
      }
    },
    {
      "cell_type": "code",
      "source": [
        "# Write your code to make your dataset analysis ready.\n",
        "# convert data type of 'Date' column to Datetime format\n",
        "df['Date'].dtype"
      ],
      "metadata": {
        "id": "wk-9a2fpoLcV"
      },
      "execution_count": null,
      "outputs": []
    },
    {
      "cell_type": "code",
      "source": [
        "df['Date']=df['Date'].apply(lambda x: datetime.strptime(x,'%d/%m/%Y'))"
      ],
      "metadata": {
        "id": "xwR6MysA7Nim"
      },
      "execution_count": null,
      "outputs": []
    },
    {
      "cell_type": "code",
      "source": [
        "df['Date'].dtype"
      ],
      "metadata": {
        "id": "iwrYTrX07Nll"
      },
      "execution_count": null,
      "outputs": []
    },
    {
      "cell_type": "code",
      "source": [
        "# Extracting: 'day' , 'month' and  'year'  from 'Date' column:\n",
        "df['day']=df['Date'].dt.day_name()\n",
        "df['month']=df['Date'].dt.month\n",
        "df['year']=df['Date'].dt.year"
      ],
      "metadata": {
        "id": "L5vgDi0p7NoB"
      },
      "execution_count": null,
      "outputs": []
    },
    {
      "cell_type": "code",
      "source": [
        "df.head()"
      ],
      "metadata": {
        "id": "tWgPLmhx7Nq3"
      },
      "execution_count": null,
      "outputs": []
    },
    {
      "cell_type": "code",
      "source": [
        "# Creating new column named: 'weekend'\n",
        "df['weekend']=df['day'].apply(lambda x: 1 if x== 'Saturday' or x== 'Sunday' else 0)\n"
      ],
      "metadata": {
        "id": "VyaMWGTg7NtX"
      },
      "execution_count": null,
      "outputs": []
    },
    {
      "cell_type": "code",
      "source": [
        "df['weekend'].value_counts()"
      ],
      "metadata": {
        "id": "HNNhAmei7Nv2"
      },
      "execution_count": null,
      "outputs": []
    },
    {
      "cell_type": "code",
      "source": [
        "# Drop columns: 'Date', 'day' and 'year'\n",
        "df.drop([ 'Date','day','year'],axis=1,inplace=True)\n"
      ],
      "metadata": {
        "id": "I-NXag7gn8ls"
      },
      "execution_count": null,
      "outputs": []
    },
    {
      "cell_type": "markdown",
      "source": [
        "### What all manipulations have you done and insights you found?"
      ],
      "metadata": {
        "id": "MSa1f5Uengrz"
      }
    },
    {
      "cell_type": "markdown",
      "source": [
        "The \"Date\" column, initially read as a string by Python, is essential for analyzing user behavior. To enable precise analysis, it is necessary to convert the column into a datetime format. Once converted, it can be separated into three separate columns: \"year,\" \"month,\" and \"day.\" These columns represent distinct temporal components and allow for more efficient categorization and analysis of the data, providing valuable insights into user behavior patterns.***"
      ],
      "metadata": {
        "id": "LbyXE7I1olp8"
      }
    },
    {
      "cell_type": "markdown",
      "source": [
        "## ***4. Data Vizualization, Storytelling & Experimenting with charts : Understand the relationships between variables***"
      ],
      "metadata": {
        "id": "GF8Ens_Soomf"
      }
    },
    {
      "cell_type": "markdown",
      "source": [
        "#### Chart - 1"
      ],
      "metadata": {
        "id": "0wOQAZs5pc--"
      }
    },
    {
      "cell_type": "code",
      "source": [
        "# Chart - 1 visualization code\n",
        "df['Rented_Bike_Count'].value_counts().sort_values(ascending=False)"
      ],
      "metadata": {
        "id": "7v_ESjsspbW7"
      },
      "execution_count": null,
      "outputs": []
    },
    {
      "cell_type": "code",
      "source": [
        "# Chart - 1 : Distribution of Dependent variable\n",
        "\n",
        "fig, (ax1,ax2) = plt.subplots(1,2,figsize=(18,6))\n",
        "sns.kdeplot(df,x='Rented_Bike_Count',fill=True,color='g',ax=ax1)\n",
        "ax1.axvline(df['Rented_Bike_Count'].mean(), color='salmon', linestyle='dashed', linewidth=2)\n",
        "ax1.axvline(df['Rented_Bike_Count'].median(), color='royalblue', linestyle=':', linewidth=2)\n",
        "sns.boxplot(df,x='Rented_Bike_Count',ax=ax2,palette=\"viridis\")\n",
        "plt.show()"
      ],
      "metadata": {
        "id": "Tp6XY-Ra7uow"
      },
      "execution_count": null,
      "outputs": []
    },
    {
      "cell_type": "markdown",
      "source": [
        "##### 1. Why did you pick the specific chart?"
      ],
      "metadata": {
        "id": "K5QZ13OEpz2H"
      }
    },
    {
      "cell_type": "markdown",
      "source": [
        "A box plot complements this by displaying quartiles and identifying potential outliers. This aids in understanding the variable's central tendency, spread, and potential anomalies."
      ],
      "metadata": {
        "id": "XESiWehPqBRc"
      }
    },
    {
      "cell_type": "markdown",
      "source": [
        "##### 2. What is/are the insight(s) found from the chart?"
      ],
      "metadata": {
        "id": "lQ7QKXXCp7Bj"
      }
    },
    {
      "cell_type": "markdown",
      "source": [
        "The chart reveals that the \"Bike rented count\" variable is positively skewed with numerous outliers, implying occasional instances of exceptionally high rentals. These outliers could signify demand spikes or anomalies, necessitating careful resource allocation and operational management to sustain customer satisfaction and avoid negative effects on business growth."
      ],
      "metadata": {
        "id": "C_j1G7yiqdRP"
      }
    },
    {
      "cell_type": "markdown",
      "source": [
        "##### 3. Will the gained insights help creating a positive business impact?\n",
        "Are there any insights that lead to negative growth? Justify with specific reason."
      ],
      "metadata": {
        "id": "448CDAPjqfQr"
      }
    },
    {
      "cell_type": "markdown",
      "source": [
        "The gained insights about the positively skewed distribution and presence of outliers in bike rental counts could potentially create a positive business impact. These insights allow businesses to identify and capitalize on demand spikes, optimize resource allocation during high-demand periods, and enhance service delivery. However, the presence of outliers doesn't necessarily indicate negative growth. Instead, it poses challenges in capacity planning and resource management. Unmanaged outliers might lead to service disruptions, dissatisfaction during peak demand, or inefficient resource allocation, potentially affecting customer experience and growth negatively. Proper strategies to accommodate outliers are crucial for preventing negative consequences."
      ],
      "metadata": {
        "id": "3cspy4FjqxJW"
      }
    },
    {
      "cell_type": "markdown",
      "source": [
        "#### Chart - 2"
      ],
      "metadata": {
        "id": "KSlN3yHqYklG"
      }
    },
    {
      "cell_type": "code",
      "source": [
        "# Chart - 2 visualization code\n",
        "num_features=df.drop('Rented_Bike_Count',axis=1).describe().columns\n",
        "num_features"
      ],
      "metadata": {
        "id": "R4YgtaqtYklH"
      },
      "execution_count": null,
      "outputs": []
    },
    {
      "cell_type": "code",
      "source": [
        "# Chart - 2 : Distribution of Numerical Features\n",
        "for var in num_features:\n",
        "  fig,(ax1,ax2)=plt.subplots(1,2,figsize=(18,5))\n",
        "  sns.kdeplot(df,x=var,fill=True,ax=ax1,color='g')\n",
        "  ax1.axvline(df[var].mean(),color='salmon', linestyle='dashed', linewidth=2)\n",
        "  ax1.axvline(df[var].median(),color='royalblue', linestyle=':', linewidth=2)\n",
        "  sns.boxplot(df,x=var,ax=ax2,palette=\"viridis\")\n",
        "  plt.show()\n",
        "  print('\\n\\n')\n",
        "\n"
      ],
      "metadata": {
        "id": "0giLMUC9760V"
      },
      "execution_count": null,
      "outputs": []
    },
    {
      "cell_type": "markdown",
      "source": [
        "##### 1. Why did you pick the specific chart?"
      ],
      "metadata": {
        "id": "t6dVpIINYklI"
      }
    },
    {
      "cell_type": "markdown",
      "source": [
        "The chosen chart, a combination of KDE distribution plots and box plots for numerical features, effectively presents the data's distribution, central tendency, and potential outliers. This aids in understanding the feature's characteristics, identifying anomalies, and making informed decisions in data analysis and interpretation."
      ],
      "metadata": {
        "id": "5aaW0BYyYklI"
      }
    },
    {
      "cell_type": "markdown",
      "source": [
        "##### 2. What is/are the insight(s) found from the chart?"
      ],
      "metadata": {
        "id": "ijmpgYnKYklI"
      }
    },
    {
      "cell_type": "markdown",
      "source": [
        "The chart's insights indicate that addressing skewness and outliers through careful analysis can yield positive business impacts. These include informed decisions, optimized operations, targeted marketing, improved resource allocation, enhanced customer satisfaction, and overall business growth. Correctly handling data characteristics fosters strategic development and performance enhancement."
      ],
      "metadata": {
        "id": "PSx9atu2YklI"
      }
    },
    {
      "cell_type": "markdown",
      "source": [
        "##### 3. Will the gained insights help creating a positive business impact?\n",
        "Are there any insights that lead to negative growth? Justify with specific reason."
      ],
      "metadata": {
        "id": "-JiQyfWJYklI"
      }
    },
    {
      "cell_type": "markdown",
      "source": [
        "Yes, the gained insights from careful analysis and appropriate handling of skewness and outliers can help create a positive business impact. By accurately understanding and addressing these data characteristics, businesses can make informed decisions, develop effective strategies, and optimize their operations. This can lead to improved resource allocation, targeted marketing, enhanced customer satisfaction, and overall positive growth and performance in the business"
      ],
      "metadata": {
        "id": "BcBbebzrYklV"
      }
    },
    {
      "cell_type": "markdown",
      "source": [
        "#### Chart - 3"
      ],
      "metadata": {
        "id": "EM7whBJCYoAo"
      }
    },
    {
      "cell_type": "code",
      "source": [
        "# Chart - 3 : Plotting graph for categorical features\n",
        "fig,(ax1,ax2,ax3)=plt.subplots(1,3,figsize=(18,5))\n",
        "sns.countplot(df,x='Seasons',ax=ax1,palette='viridis')\n",
        "sns.countplot(df,x='Holiday',ax=ax2,palette='pastel')\n",
        "sns.countplot(df,x='Functioning_Day',ax=ax3,palette='inferno')\n",
        "plt.show()\n"
      ],
      "metadata": {
        "id": "t6GMdE67YoAp"
      },
      "execution_count": null,
      "outputs": []
    },
    {
      "cell_type": "markdown",
      "source": [
        "##### 1. Why did you pick the specific chart?"
      ],
      "metadata": {
        "id": "fge-S5ZAYoAp"
      }
    },
    {
      "cell_type": "markdown",
      "source": [
        "The chosen chart, a series of count plots for categorical features, effectively illustrates the distribution and frequency of different categories within each feature. This aids in understanding the composition of seasons, holiday occurrences, and functioning days, helping to identify patterns and trends that might influence bike rentals."
      ],
      "metadata": {
        "id": "5dBItgRVYoAp"
      }
    },
    {
      "cell_type": "markdown",
      "source": [
        "##### 2. What is/are the insight(s) found from the chart?"
      ],
      "metadata": {
        "id": "85gYPyotYoAp"
      }
    },
    {
      "cell_type": "markdown",
      "source": [
        "There is not much difference across seasons but the count of Rental bikes significantly imbalance across 'Holiday' and 'Functioning Day' columns."
      ],
      "metadata": {
        "id": "4jstXR6OYoAp"
      }
    },
    {
      "cell_type": "markdown",
      "source": [
        "##### 3. Will the gained insights help creating a positive business impact?\n",
        "Are there any insights that lead to negative growth? Justify with specific reason."
      ],
      "metadata": {
        "id": "RoGjAbkUYoAp"
      }
    },
    {
      "cell_type": "markdown",
      "source": [
        "The insights gained, particularly the substantial imbalance in bike rental counts between \"Holiday\" and \"Functioning Day,\" can lead to a positive business impact. By recognizing the demand disparity, businesses can allocate resources and tailor services accordingly. However, if not managed well, a lack of resource allocation on high-demand days might lead to negative growth due to unsatisfactory customer experiences and potential revenue loss."
      ],
      "metadata": {
        "id": "zfJ8IqMcYoAp"
      }
    },
    {
      "cell_type": "markdown",
      "source": [
        "#### Chart - 4"
      ],
      "metadata": {
        "id": "4Of9eVA-YrdM"
      }
    },
    {
      "cell_type": "code",
      "source": [
        "# Chart - 4 : Relation between  Numerical Features and dependent variable\n",
        "for var in num_features:\n",
        "  plt.figure(figsize=(12,6))\n",
        "  sns.scatterplot(df,x=var,y='Rented_Bike_Count',color='salmon')\n",
        "  correlation=df[var].corr(df['Rented_Bike_Count'])\n",
        "  plt.title('Rented_Bike_Count vs ' + var + ': Correlation = '+str(correlation) )\n",
        "  z = np.polyfit(df[var], df['Rented_Bike_Count'], 1)\n",
        "  y_hat = np.poly1d(z)(df[var])\n",
        "  plt.plot(df[var], y_hat,'r--', lw=1)\n",
        "  plt.show()\n",
        "  print('\\n\\n\\n')\n",
        "\n",
        "\n",
        "\n"
      ],
      "metadata": {
        "id": "irlUoxc8YrdO"
      },
      "execution_count": null,
      "outputs": []
    },
    {
      "cell_type": "markdown",
      "source": [
        "##### 1. Why did you pick the specific chart?"
      ],
      "metadata": {
        "id": "iky9q4vBYrdO"
      }
    },
    {
      "cell_type": "markdown",
      "source": [
        "The selected scatter plots effectively depict the relationship between numerical features and the dependent variable, \"Rented_Bike_Count.\" By visually showcasing how each feature relates to bike rentals, these plots help identify potential correlations and patterns. The added correlation coefficient and linear regression line enhance data interpretation and insights."
      ],
      "metadata": {
        "id": "aJRCwT6DYrdO"
      }
    },
    {
      "cell_type": "markdown",
      "source": [
        "##### 2. What is/are the insight(s) found from the chart?"
      ],
      "metadata": {
        "id": "F6T5p64dYrdO"
      }
    },
    {
      "cell_type": "markdown",
      "source": [
        "Hour, Temperature, wind speed, visibility, dew point temperature,solar radiation & month are positively correlated with our dependent variable (Rented Bike Count) while other numerical features are negatively correlated with Rented bike count."
      ],
      "metadata": {
        "id": "Xx8WAJvtYrdO"
      }
    },
    {
      "cell_type": "markdown",
      "source": [
        "##### 3. Will the gained insights help creating a positive business impact?\n",
        "Are there any insights that lead to negative growth? Justify with specific reason."
      ],
      "metadata": {
        "id": "y-Ehk30pYrdP"
      }
    },
    {
      "cell_type": "markdown",
      "source": [
        "Yes, the gained insights about the positive and negative correlations between numerical features and bike rental counts can create a positive business impact. These insights enable businesses to identify factors that drive rentals and make informed decisions for resource allocation, marketing strategies, and service optimization, ultimately enhancing customer satisfaction and business growth."
      ],
      "metadata": {
        "id": "jLNxxz7MYrdP"
      }
    },
    {
      "cell_type": "markdown",
      "source": [
        "#### Chart - 5"
      ],
      "metadata": {
        "id": "bamQiAODYuh1"
      }
    },
    {
      "cell_type": "code",
      "source": [
        "# Chart - 5: Relation between Categorical features and Dependent Variable\n",
        "fig,(ax1,ax2,ax3)=plt.subplots(1,3,figsize=(18,5))\n",
        "sns.barplot(df,x='Seasons',y='Rented_Bike_Count',ax=ax1,palette='viridis',capsize=0.1)\n",
        "sns.barplot(df,x='Holiday',y='Rented_Bike_Count',ax=ax2,palette='pastel',capsize=0.1)\n",
        "sns.barplot(df,x='Functioning_Day',y='Rented_Bike_Count',ax=ax3,palette='inferno',capsize=0.1)\n",
        "plt.show()\n"
      ],
      "metadata": {
        "id": "TIJwrbroYuh3"
      },
      "execution_count": null,
      "outputs": []
    },
    {
      "cell_type": "markdown",
      "source": [
        "##### 1. Why did you pick the specific chart?"
      ],
      "metadata": {
        "id": "QHF8YVU7Yuh3"
      }
    },
    {
      "cell_type": "markdown",
      "source": [
        "The chosen bar plots effectively illustrate the relationship between categorical features and the dependent variable, \"Rented_Bike_Count.\" These plots provide a clear visual comparison of rental counts across different categories within each feature, aiding in identifying trends and patterns that could influence bike rentals."
      ],
      "metadata": {
        "id": "dcxuIMRPYuh3"
      }
    },
    {
      "cell_type": "markdown",
      "source": [
        "##### 2. What is/are the insight(s) found from the chart?"
      ],
      "metadata": {
        "id": "GwzvFGzlYuh3"
      }
    },
    {
      "cell_type": "markdown",
      "source": [
        "* **Count is maximum during summer but minimum during winter.**\n",
        "* **During holidays counts drop down**.\n",
        "* **Contribution of non-funtioning day to count is insignificant**."
      ],
      "metadata": {
        "id": "uyqkiB8YYuh3"
      }
    },
    {
      "cell_type": "markdown",
      "source": [
        "##### 3. Will the gained insights help creating a positive business impact?\n",
        "Are there any insights that lead to negative growth? Justify with specific reason."
      ],
      "metadata": {
        "id": "qYpmQ266Yuh3"
      }
    },
    {
      "cell_type": "markdown",
      "source": [
        "The gained insights can create a positive business impact. Tailoring strategies for seasonal variations and holidays, and optimizing services on functioning days, can enhance customer satisfaction and growth. However, failure to address holiday drops might lead to negative growth due to reduced revenues and customer dissatisfaction, requiring effective mitigation strategies."
      ],
      "metadata": {
        "id": "_WtzZ_hCYuh4"
      }
    },
    {
      "cell_type": "markdown",
      "source": [
        "#### Chart - 6"
      ],
      "metadata": {
        "id": "OH-pJp9IphqM"
      }
    },
    {
      "cell_type": "code",
      "source": [
        "# Chart - 6: plot to analyze the relationship between \"Rented_Bike_Count\" and \"Rainfall\"\n",
        "plt.figure(figsize=(12,6))\n",
        "df.groupby('Rainfall').mean()['Rented_Bike_Count'].plot(c='g')\n",
        "plt.xlabel('Rainfall in mm')\n",
        "plt.ylabel('Average rented bike count')\n",
        "plt.xticks(range(0,37,2))\n",
        "plt.show()"
      ],
      "metadata": {
        "id": "kuRf4wtuphqN"
      },
      "execution_count": null,
      "outputs": []
    },
    {
      "cell_type": "markdown",
      "source": [
        "##### 1. Why did you pick the specific chart?"
      ],
      "metadata": {
        "id": "bbFf2-_FphqN"
      }
    },
    {
      "cell_type": "markdown",
      "source": [
        "The chosen chart effectively illustrates the relationship between \"Rented_Bike_Count\" and \"Rainfall.\" By displaying the average bike count across different rainfall levels, this plot helps identify trends in bike rentals in response to varying weather conditions, aiding in understanding the impact of rainfall on rental patterns."
      ],
      "metadata": {
        "id": "loh7H2nzphqN"
      }
    },
    {
      "cell_type": "markdown",
      "source": [
        "##### 2. What is/are the insight(s) found from the chart?"
      ],
      "metadata": {
        "id": "_ouA3fa0phqN"
      }
    },
    {
      "cell_type": "markdown",
      "source": [
        "The above plot indicates that despite heavy rainfall, the demand for rented bikes does not decrease. For instance, even with a rainfall of 22-24 mm, there is a significant peak in the number of rented bikes."
      ],
      "metadata": {
        "id": "VECbqPI7phqN"
      }
    },
    {
      "cell_type": "markdown",
      "source": [
        "##### 3. Will the gained insights help creating a positive business impact?\n",
        "Are there any insights that lead to negative growth? Justify with specific reason."
      ],
      "metadata": {
        "id": "Seke61FWphqN"
      }
    },
    {
      "cell_type": "markdown",
      "source": [
        "The gained insight that bike rental demand remains high despite heavy rainfall can indeed create a positive business impact. Businesses can adapt operations and services to cater to customers who are undeterred by rain, potentially increasing revenue and customer satisfaction. However, ignoring the increased demand during such conditions could lead to negative growth by missing out on revenue opportunities."
      ],
      "metadata": {
        "id": "DW4_bGpfphqN"
      }
    },
    {
      "cell_type": "markdown",
      "source": [
        "#### Chart - 7"
      ],
      "metadata": {
        "id": "PIIx-8_IphqN"
      }
    },
    {
      "cell_type": "code",
      "source": [
        "# Chart - 7 : plot to analyze the relationship between \"Rented_Bike_Count\" and \"Wind_speed\"\n",
        "plt.figure(figsize=(12,6))\n",
        "df.groupby('Wind_speed').mean()['Rented_Bike_Count'].plot(c='g')\n",
        "plt.xlabel('Wind_Speed in m/s')\n",
        "plt.ylabel('Average rented bike count')\n",
        "plt.show()\n",
        "\n",
        "\n"
      ],
      "metadata": {
        "id": "lqAIGUfyphqO"
      },
      "execution_count": null,
      "outputs": []
    },
    {
      "cell_type": "markdown",
      "source": [
        "##### 1. Why did you pick the specific chart?"
      ],
      "metadata": {
        "id": "t27r6nlMphqO"
      }
    },
    {
      "cell_type": "markdown",
      "source": [
        "The chosen chart effectively explores the connection between \"Rented_Bike_Count\" and \"Wind_speed.\" Displaying the average bike count against varying wind speeds, this plot helps uncover patterns in rental demand based on wind conditions, aiding in understanding the impact of wind speed on bike rentals."
      ],
      "metadata": {
        "id": "iv6ro40sphqO"
      }
    },
    {
      "cell_type": "markdown",
      "source": [
        "##### 2. What is/are the insight(s) found from the chart?"
      ],
      "metadata": {
        "id": "r2jJGEOYphqO"
      }
    },
    {
      "cell_type": "markdown",
      "source": [
        "The above plot indicates that despite heavy rainfall, the demand for rented bikes does not decrease. For instance, even with a rainfall of 22-24 mm, there is a significant peak in the number of rented bikes."
      ],
      "metadata": {
        "id": "Po6ZPi4hphqO"
      }
    },
    {
      "cell_type": "markdown",
      "source": [
        "##### 3. Will the gained insights help creating a positive business impact?\n",
        "Are there any insights that lead to negative growth? Justify with specific reason."
      ],
      "metadata": {
        "id": "b0JNsNcRphqO"
      }
    },
    {
      "cell_type": "markdown",
      "source": [
        "Yes, the gained insight about the even distribution of bike rentals regardless of wind speed, with a spike at 7 m/s, can have a positive business impact. Businesses can promote biking as an enjoyable activity during breezy conditions, potentially increasing bike rentals and attracting more customers.\n",
        "\n"
      ],
      "metadata": {
        "id": "xvSq8iUTphqO"
      }
    },
    {
      "cell_type": "markdown",
      "source": [
        "#### Chart - 8"
      ],
      "metadata": {
        "id": "BZR9WyysphqO"
      }
    },
    {
      "cell_type": "code",
      "source": [
        "# Chart - 8 visualization code\n",
        "fig, ax = plt.subplots(figsize=(15, 8))\n",
        "sns.boxplot(data=df, x='Hour', y='Rented_Bike_Count', ax=ax,palette='viridis')\n",
        "ax.set(title='Count of Rented bikes according to Hour')\n",
        "plt.show()"
      ],
      "metadata": {
        "id": "TdPTWpAVphqO"
      },
      "execution_count": null,
      "outputs": []
    },
    {
      "cell_type": "markdown",
      "source": [
        "##### 1. Why did you pick the specific chart?"
      ],
      "metadata": {
        "id": "jj7wYXLtphqO"
      }
    },
    {
      "cell_type": "markdown",
      "source": [
        "The chosen box plot effectively illustrates the distribution of \"Rented_Bike_Count\" across different hours of the day. This aids in understanding hourly rental patterns, identifying outliers, and spotting trends that could influence bike rental demands."
      ],
      "metadata": {
        "id": "Ob8u6rCTphqO"
      }
    },
    {
      "cell_type": "markdown",
      "source": [
        "##### 2. What is/are the insight(s) found from the chart?"
      ],
      "metadata": {
        "id": "eZrbJ2SmphqO"
      }
    },
    {
      "cell_type": "markdown",
      "source": [
        "The plot above showcases the usage of rented bikes across different hours throughout the year. It is notable that people tend to use rented bikes during their working hours, specifically from 7 AM to 9 AM and 5 PM to 7 PM."
      ],
      "metadata": {
        "id": "mZtgC_hjphqO"
      }
    },
    {
      "cell_type": "markdown",
      "source": [
        "##### 3. Will the gained insights help creating a positive business impact?\n",
        "Are there any insights that lead to negative growth? Justify with specific reason."
      ],
      "metadata": {
        "id": "rFu4xreNphqO"
      }
    },
    {
      "cell_type": "markdown",
      "source": [
        "Yes, the gained insight that people tend to use rented bikes during their working hours can have a positive business impact. Businesses can optimize their operations and marketing efforts during these peak hours to meet customer demand, attract more riders, and potentially increase revenue."
      ],
      "metadata": {
        "id": "ey_0qi68phqO"
      }
    },
    {
      "cell_type": "markdown",
      "source": [
        "#### Chart - 9"
      ],
      "metadata": {
        "id": "YJ55k-q6phqO"
      }
    },
    {
      "cell_type": "code",
      "source": [
        "# Chart - 9 visualization code\n",
        "plt.figure(figsize=(14,6))\n",
        "sns.barplot(x='month',y='Rented_Bike_Count',data=df,palette='viridis')\n",
        "plt.title('Average count of Bikes Rented per Month')\n",
        "plt.show()"
      ],
      "metadata": {
        "id": "B2aS4O1ophqO"
      },
      "execution_count": null,
      "outputs": []
    },
    {
      "cell_type": "markdown",
      "source": [
        "##### 1. Why did you pick the specific chart?"
      ],
      "metadata": {
        "id": "gCFgpxoyphqP"
      }
    },
    {
      "cell_type": "markdown",
      "source": [
        "The selected bar plot effectively displays the average bike rental count per month. This plot helps identify monthly trends and seasonal variations in rental demand, enabling businesses to tailor strategies and resources accordingly."
      ],
      "metadata": {
        "id": "TVxDimi2phqP"
      }
    },
    {
      "cell_type": "markdown",
      "source": [
        "##### 2. What is/are the insight(s) found from the chart?"
      ],
      "metadata": {
        "id": "OVtJsKN_phqQ"
      }
    },
    {
      "cell_type": "markdown",
      "source": [
        "During Summer season the demand for rented bikes are on hike while during winter demand is low.**bold text**"
      ],
      "metadata": {
        "id": "ngGi97qjphqQ"
      }
    },
    {
      "cell_type": "markdown",
      "source": [
        "##### 3. Will the gained insights help creating a positive business impact?\n",
        "Are there any insights that lead to negative growth? Justify with specific reason."
      ],
      "metadata": {
        "id": "lssrdh5qphqQ"
      }
    },
    {
      "cell_type": "markdown",
      "source": [
        "The gained insight about higher bike demand during summer and lower demand in winter can create a positive business impact. Businesses can allocate resources, marketing, and service efforts according to seasonal trends. However, failing to adapt during low-demand seasons might lead to negative growth due to potential revenue loss and underutilized resources."
      ],
      "metadata": {
        "id": "tBpY5ekJphqQ"
      }
    },
    {
      "cell_type": "markdown",
      "source": [
        "#### Chart - 10"
      ],
      "metadata": {
        "id": "U2RJ9gkRphqQ"
      }
    },
    {
      "cell_type": "code",
      "source": [
        "# Chart - 10 visualization code\n",
        "plt.figure(figsize=(16,6))\n",
        "sns.lineplot(x='Hour',y= \"Rented_Bike_Count\",data=df,hue='Seasons',palette='deep',alpha=1)\n",
        "plt.xticks(range(0,24))\n",
        "plt.title('Analysing trend line of \"Rented Bike Count\" w.r.t \"Hour\" for different Seasons')\n",
        "plt.show()"
      ],
      "metadata": {
        "id": "GM7a4YP4phqQ"
      },
      "execution_count": null,
      "outputs": []
    },
    {
      "cell_type": "markdown",
      "source": [
        "##### 1. Why did you pick the specific chart?"
      ],
      "metadata": {
        "id": "1M8mcRywphqQ"
      }
    },
    {
      "cell_type": "markdown",
      "source": [
        "The selected line plot effectively visualizes the trend of \"Rented_Bike_Count\" with respect to the \"Hour\" for different seasons. This plot aids in identifying hourly patterns across seasons, highlighting when rentals peak and drop, valuable for resource allocation and service optimization."
      ],
      "metadata": {
        "id": "8agQvks0phqQ"
      }
    },
    {
      "cell_type": "markdown",
      "source": [
        "##### 2. What is/are the insight(s) found from the chart?"
      ],
      "metadata": {
        "id": "tgIPom80phqQ"
      }
    },
    {
      "cell_type": "markdown",
      "source": [
        "The analysis reveals that the use of rented bikes is significantly high during the summer season with peak demand during 7am-9am and 5pm-7pm. However, during the winter season, the use of rented bikes is quite low due to snowfall."
      ],
      "metadata": {
        "id": "Qp13pnNzphqQ"
      }
    },
    {
      "cell_type": "markdown",
      "source": [
        "##### 3. Will the gained insights help creating a positive business impact?\n",
        "Are there any insights that lead to negative growth? Justify with specific reason."
      ],
      "metadata": {
        "id": "JMzcOPDDphqR"
      }
    },
    {
      "cell_type": "markdown",
      "source": [
        "The gained insights have the potential to create a positive business impact. By recognizing high demand during summer peak hours and the impact of snowfall on low winter demand, businesses can optimize resources, tailor services, and manage bike availability. Neglecting to adjust for these patterns might lead to negative growth due to unsatisfied demand and underutilized resources."
      ],
      "metadata": {
        "id": "R4Ka1PC2phqR"
      }
    },
    {
      "cell_type": "markdown",
      "source": [
        "#### Chart - 11"
      ],
      "metadata": {
        "id": "x-EpHcCOp1ci"
      }
    },
    {
      "cell_type": "code",
      "source": [
        "# Chart - 11 visualization code\n",
        "plt.figure(figsize=(16,6))\n",
        "sns.pointplot(x='Hour',y= \"Rented_Bike_Count\",data=df,hue='Holiday',palette='rocket')\n",
        "plt.title('Analysing trend line of \"Rented Bike Count\" w.r.t \"Hour\" seperately for \"Holiday\" and \"No Holiday\" ')\n",
        "plt.show()"
      ],
      "metadata": {
        "id": "mAQTIvtqp1cj"
      },
      "execution_count": null,
      "outputs": []
    },
    {
      "cell_type": "markdown",
      "source": [
        "##### 1. Why did you pick the specific chart?"
      ],
      "metadata": {
        "id": "X_VqEhTip1ck"
      }
    },
    {
      "cell_type": "markdown",
      "source": [
        "The chosen point plot effectively illustrates the trend of \"Rented_Bike_Count\" with respect to the \"Hour\" separately for holidays and non-holidays. This plot highlights hourly rental patterns on different days, aiding in understanding how holidays impact bike usage and guiding resource planning."
      ],
      "metadata": {
        "id": "-vsMzt_np1ck"
      }
    },
    {
      "cell_type": "markdown",
      "source": [
        "##### 2. What is/are the insight(s) found from the chart?"
      ],
      "metadata": {
        "id": "8zGJKyg5p1ck"
      }
    },
    {
      "cell_type": "markdown",
      "source": [
        "During Holidays People prefer to use rented bikes after 12 pm."
      ],
      "metadata": {
        "id": "ZYdMsrqVp1ck"
      }
    },
    {
      "cell_type": "markdown",
      "source": [
        "##### 3. Will the gained insights help creating a positive business impact?\n",
        "Are there any insights that lead to negative growth? Justify with specific reason."
      ],
      "metadata": {
        "id": "PVzmfK_Ep1ck"
      }
    },
    {
      "cell_type": "markdown",
      "source": [
        "The gained insight that bike usage increases after 12 pm during holidays has potential for a positive business impact. Businesses can adjust operations and promotions to cater to this pattern. However, overlooking this trend might lead to negative growth due to missed opportunities for catering to holiday customers and maximizing revenue during peak hours."
      ],
      "metadata": {
        "id": "druuKYZpp1ck"
      }
    },
    {
      "cell_type": "markdown",
      "source": [
        "#### Chart - 12"
      ],
      "metadata": {
        "id": "n3dbpmDWp1ck"
      }
    },
    {
      "cell_type": "code",
      "source": [
        "# Chart - 12 visualization code\n",
        "plt.figure(figsize=(16,6))\n",
        "sns.pointplot(x='Hour',y= \"Rented_Bike_Count\",data=df,hue='weekend',palette='rocket')\n",
        "plt.title('Analysing trend line of \"Rented Bike Count\" w.r.t \"Hour\" sperately for \"weekdays\" and \"weekend\" ')\n",
        "plt.show()"
      ],
      "metadata": {
        "id": "bwevp1tKp1ck"
      },
      "execution_count": null,
      "outputs": []
    },
    {
      "cell_type": "markdown",
      "source": [
        "##### 1. Why did you pick the specific chart?"
      ],
      "metadata": {
        "id": "ylSl6qgtp1ck"
      }
    },
    {
      "cell_type": "markdown",
      "source": [
        "The selected point plot effectively depicts the trend of \"Rented_Bike_Count\" concerning the \"Hour\" separately for weekdays and weekends. This plot highlights hourly rental patterns on different types of days, aiding in understanding how days of the week impact bike usage and guiding resource planning."
      ],
      "metadata": {
        "id": "m2xqNkiQp1ck"
      }
    },
    {
      "cell_type": "markdown",
      "source": [
        "##### 2. What is/are the insight(s) found from the chart?"
      ],
      "metadata": {
        "id": "ZWILFDl5p1ck"
      }
    },
    {
      "cell_type": "markdown",
      "source": [
        "* we can observe that the demand for rented bikes is higher on weekdays and more specifically between 7am-9am and 5pm-7pm**.\n",
        "* On weekends,the demand for rented bikes is generally lower, especially during the morning hours but rise thereafter."
      ],
      "metadata": {
        "id": "x-lUsV2mp1ck"
      }
    },
    {
      "cell_type": "markdown",
      "source": [
        "##### 3. Will the gained insights help creating a positive business impact?\n",
        "Are there any insights that lead to negative growth? Justify with specific reason."
      ],
      "metadata": {
        "id": "M7G43BXep1ck"
      }
    },
    {
      "cell_type": "markdown",
      "source": [
        "The gained insights about higher weekday demand during commute hours and the rising demand on weekend afternoons can create a positive business impact. Businesses can adjust services and promotions to meet these patterns. However, neglecting to accommodate these trends might lead to negative growth due to missed revenue opportunities on weekdays and customer dissatisfaction on weekends."
      ],
      "metadata": {
        "id": "5wwDJXsLp1cl"
      }
    },
    {
      "cell_type": "markdown",
      "source": [
        "#### Chart - 13 - Correlation Heatmap"
      ],
      "metadata": {
        "id": "NC_X3p0fY2L0"
      }
    },
    {
      "cell_type": "code",
      "source": [
        "# Correlation Heatmap visualization code\n",
        "plt.figure(figsize=(16,8))\n",
        "plt.title('Correlation Chart')\n",
        "sns.heatmap(df[df.describe().columns].corr(),annot=True,annot_kws={'size': 10},linewidths=2,square=True,fmt='.2f',cmap='PiYG')\n",
        "plt.show()"
      ],
      "metadata": {
        "id": "xyC9zolEZNRQ"
      },
      "execution_count": null,
      "outputs": []
    },
    {
      "cell_type": "markdown",
      "source": [
        "##### 1. Why did you pick the specific chart?"
      ],
      "metadata": {
        "id": "UV0SzAkaZNRQ"
      }
    },
    {
      "cell_type": "markdown",
      "source": [
        "The chosen correlation heatmap effectively presents the relationships between numerical features. With color-coded correlation values and annotations, it provides a comprehensive view of inter-feature relationships, aiding in identifying strong correlations that can influence bike rental trends and insights."
      ],
      "metadata": {
        "id": "DVPuT8LYZNRQ"
      }
    },
    {
      "cell_type": "markdown",
      "source": [
        "##### 2. What is/are the insight(s) found from the chart?"
      ],
      "metadata": {
        "id": "YPEH6qLeZNRQ"
      }
    },
    {
      "cell_type": "markdown",
      "source": [
        "### **Presence of Multicollinearity**\n",
        "* **We observe that columns 'Temperature' and 'Dew point temperature' are highly positively correlated, with a correlation coefficient of 0.91.**\n",
        "* **'Visibility' and 'Humidity' have high negative correlation as compared to others, with a correlation coefficient of -0.54.** **bold text** bold text"
      ],
      "metadata": {
        "id": "bfSqtnDqZNRR"
      }
    },
    {
      "cell_type": "markdown",
      "source": [
        "####Using VIF to remove Multicollinearity\n",
        "\n",
        "\n",
        "* VIF score should be less than 5 for no multicollinearity.  \n",
        "\n",
        "\n"
      ],
      "metadata": {
        "id": "q29F0dvdveiT"
      }
    },
    {
      "cell_type": "code",
      "source": [
        "from statsmodels.stats.outliers_influence import variance_inflation_factor\n",
        "def calc_vif(X):\n",
        "\n",
        "# Calculating VIF\n",
        "  vif =pd.DataFrame()\n",
        "  vif['Features']= X.columns\n",
        "  vif['VIF']=[variance_inflation_factor(X.values,i) for i in range(X.shape[1])]\n",
        "  return vif\n"
      ],
      "metadata": {
        "id": "o58-TEIhveiU"
      },
      "execution_count": null,
      "outputs": []
    },
    {
      "cell_type": "code",
      "source": [
        "bike_df_copy=df.copy()"
      ],
      "metadata": {
        "id": "ZV3yalnsbnmY"
      },
      "execution_count": null,
      "outputs": []
    },
    {
      "cell_type": "code",
      "source": [
        "calc_vif(bike_df_copy[[i for i in bike_df_copy.describe().columns if i not in [\"Rented_Bike_Count\"]]])"
      ],
      "metadata": {
        "id": "9bGsQBKEbnqw"
      },
      "execution_count": null,
      "outputs": []
    },
    {
      "cell_type": "code",
      "source": [
        "bike_df_copy.drop(columns = ['Dew_point_temperature'],axis = 1, inplace = True)"
      ],
      "metadata": {
        "id": "Ov_iVbMtbnuK"
      },
      "execution_count": null,
      "outputs": []
    },
    {
      "cell_type": "code",
      "source": [
        "calc_vif(bike_df_copy[[i for i in bike_df_copy.describe().columns if i not in [\"Rented Bike Count\"]]])"
      ],
      "metadata": {
        "id": "xvN9x909bnxI"
      },
      "execution_count": null,
      "outputs": []
    },
    {
      "cell_type": "code",
      "source": [
        "bike_df_copy.drop(columns = ['Humidity'],axis = 1, inplace = True)"
      ],
      "metadata": {
        "id": "IkonIzu2b3tF"
      },
      "execution_count": null,
      "outputs": []
    },
    {
      "cell_type": "code",
      "source": [
        "calc_vif(bike_df_copy[[i for i in bike_df_copy.describe().columns if i not in [\"Rented Bike Count\"]]])"
      ],
      "metadata": {
        "id": "u6mdoLGhb3vt"
      },
      "execution_count": null,
      "outputs": []
    },
    {
      "cell_type": "markdown",
      "source": [
        "##### 1. Why did you pick the specific chart?"
      ],
      "metadata": {
        "id": "EXh0U9oCveiU"
      }
    },
    {
      "cell_type": "markdown",
      "source": [],
      "metadata": {
        "id": "eMmPjTByveiU"
      }
    },
    {
      "cell_type": "markdown",
      "source": [
        "##### 2. What is/are the insight(s) found from the chart?"
      ],
      "metadata": {
        "id": "22aHeOlLveiV"
      }
    },
    {
      "cell_type": "markdown",
      "source": [],
      "metadata": {
        "id": "uPQ8RGwHveiV"
      }
    },
    {
      "cell_type": "markdown",
      "source": [
        "## ***5. Hypothesis Testing***"
      ],
      "metadata": {
        "id": "g-ATYxFrGrvw"
      }
    },
    {
      "cell_type": "markdown",
      "source": [
        "### Based on your chart experiments, define three hypothetical statements from the dataset. In the next three questions, perform hypothesis testing to obtain final conclusion about the statements through your code and statistical testing."
      ],
      "metadata": {
        "id": "Yfr_Vlr8HBkt"
      }
    },
    {
      "cell_type": "markdown",
      "source": [
        "Answer Here."
      ],
      "metadata": {
        "id": "-7MS06SUHkB-"
      }
    },
    {
      "cell_type": "markdown",
      "source": [
        "### Hypothetical Statement - 1"
      ],
      "metadata": {
        "id": "8yEUt7NnHlrM"
      }
    },
    {
      "cell_type": "markdown",
      "source": [
        "#### 1. State Your research hypothesis as a null hypothesis and alternate hypothesis."
      ],
      "metadata": {
        "id": "tEA2Xm5dHt1r"
      }
    },
    {
      "cell_type": "markdown",
      "source": [
        "**Null Hypothesis (H0)**: There is no significant relationship between the independent variables and the 'Rented Bike Count' (dependent variable).\n",
        "\n",
        "**Alternate Hypothesis (Ha)**: There is a significant relationship between the independent variables and the 'Rented Bike Count' (dependent variable)."
      ],
      "metadata": {
        "id": "HI9ZP0laH0D-"
      }
    },
    {
      "cell_type": "markdown",
      "source": [
        "#### 2. Perform an appropriate statistical test.\n",
        "\n",
        "**To test this hypothesis, we can perform statistical tests such as:**\n",
        "\n",
        "* *Feature Significance Test: Evaluate the p-values of the coefficients of the independent variables in the regression model. If the p-values are below a predetermined significance level (e.g., 0.05), reject the null hypothesis and conclude that there is a significant relationship between the independent variables and the 'Rented Bike Count.'*\n",
        "\n",
        "* *Overall Model Significance Test: Assess the overall significance of the regression model by conducting an F-test or chi-square test. If the p-value is below the chosen significance level, reject the null hypothesis and conclude that the model as a whole is significant in predicting the 'Rented Bike Count.'*"
      ],
      "metadata": {
        "id": "I79__PHVH19G"
      }
    },
    {
      "cell_type": "code",
      "source": [
        "# Perform Statistical Test to obtain P-Value\n",
        "import statsmodels.api as sm\n",
        "\n",
        "\n",
        "# Add a constant column to the DataFrame for the intercept term\n",
        "bike_df_copy = sm.add_constant(bike_df_copy)\n",
        "\n",
        "independent_vars=bike_df_copy[bike_df_copy.describe().columns].drop('Rented_Bike_Count',axis=1)\n",
        "dependent_var=bike_df_copy['Rented_Bike_Count']\n",
        "\n",
        "# Perform the regression analysis\n",
        "model = sm.OLS(dependent_var,independent_vars)\n",
        "results = model.fit()\n",
        "\n",
        "# Obtain the p-values\n",
        "p_values = results.pvalues\n",
        "\n",
        "print(round(p_values,5))"
      ],
      "metadata": {
        "id": "oZrfquKtyian"
      },
      "execution_count": null,
      "outputs": []
    },
    {
      "cell_type": "code",
      "source": [
        "results.summary()"
      ],
      "metadata": {
        "id": "e2_jzjcccnod"
      },
      "execution_count": null,
      "outputs": []
    },
    {
      "cell_type": "markdown",
      "source": [
        "**Conclusion**\n",
        "* For the 'Solar_Radiation' variable, the p-value is 0.53238, which is greater than 0.05. Therefore, there is not enough evidence to conclude a significant relationship between 'Solar_Radiation' and the 'Rented Bike Count'.\n",
        "*Similarly, for the 'Snowfall' variable, the p-value is 0.10884, which is also greater than 0.05. Hence, there is not enough evidence to establish a significant relationship between 'Snowfall' and the 'Rented Bike Count'.\n",
        "\n",
        "\n",
        "\n",
        "In summary, based on the given p-values, we can reject the null hypothesis for the independent variables 'Hour', 'Temperature', 'Wind_speed', 'Visibility', 'Rainfall', 'Month', and 'Weekend'. This implies that there is a significant relationship between these independent variables and the 'Rented Bike Count'. However, there is insufficient evidence to reject the null hypothesis for the 'Solar_Radiation' and 'Snowfall' variables, indicating that these variables may not have a significant relationship with the 'Rented Bike Count'."
      ],
      "metadata": {
        "id": "4bzq3q5tc0f9"
      }
    },
    {
      "cell_type": "markdown",
      "source": [
        "##### Which statistical test have you done to obtain P-Value?"
      ],
      "metadata": {
        "id": "Ou-I18pAyIpj"
      }
    },
    {
      "cell_type": "markdown",
      "source": [
        "Answer Here."
      ],
      "metadata": {
        "id": "s2U0kk00ygSB"
      }
    },
    {
      "cell_type": "markdown",
      "source": [
        "##### Why did you choose the specific statistical test?"
      ],
      "metadata": {
        "id": "fF3858GYyt-u"
      }
    },
    {
      "cell_type": "markdown",
      "source": [
        "Answer Here."
      ],
      "metadata": {
        "id": "HO4K0gP5y3B4"
      }
    },
    {
      "cell_type": "markdown",
      "source": [
        "### Hypothetical Statement - 2"
      ],
      "metadata": {
        "id": "4_0_7-oCpUZd"
      }
    },
    {
      "cell_type": "markdown",
      "source": [
        "#### 1. State Your research hypothesis as a null hypothesis and alternate hypothesis."
      ],
      "metadata": {
        "id": "hwyV_J3ipUZe"
      }
    },
    {
      "cell_type": "markdown",
      "source": [
        "**Null hypothesis (H0)**: The dependent variable is normally distributed in the population.\n",
        "\n",
        "**Alternative hypothesis (Ha)**: The dependent variable is not normally distributed in the population."
      ],
      "metadata": {
        "id": "FnpLGJ-4pUZe"
      }
    },
    {
      "cell_type": "markdown",
      "source": [
        "#### 2. Perform an appropriate statistical test.\n",
        "\n",
        "####**Shapiro-Wilk test**"
      ],
      "metadata": {
        "id": "3yB-zSqbpUZe"
      }
    },
    {
      "cell_type": "code",
      "source": [
        "# Perform Statistical Test to obtain P-Value\n",
        "\n",
        "from scipy import stats\n",
        "\n",
        "# Perform the Shapiro-Wilk test\n",
        "statistic, p_value = stats.shapiro(bike_df_copy['Rented_Bike_Count'])\n",
        "\n",
        "print(\"Shapiro-Wilk Test\")\n",
        "print(\"Test statistic:\", statistic)\n",
        "print(\"p-value:\", p_value)"
      ],
      "metadata": {
        "id": "sWxdNTXNpUZe"
      },
      "execution_count": null,
      "outputs": []
    },
    {
      "cell_type": "code",
      "source": [
        "bike_df_copy.drop('const',axis=1,inplace=True)"
      ],
      "metadata": {
        "id": "locS0TFnhHXB"
      },
      "execution_count": null,
      "outputs": []
    },
    {
      "cell_type": "markdown",
      "source": [
        "##### Which statistical test have you done to obtain P-Value?"
      ],
      "metadata": {
        "id": "dEUvejAfpUZe"
      }
    },
    {
      "cell_type": "markdown",
      "source": [
        "Answer Here."
      ],
      "metadata": {
        "id": "oLDrPz7HpUZf"
      }
    },
    {
      "cell_type": "markdown",
      "source": [
        "##### Why did you choose the specific statistical test?"
      ],
      "metadata": {
        "id": "Fd15vwWVpUZf"
      }
    },
    {
      "cell_type": "markdown",
      "source": [
        "Answer Here."
      ],
      "metadata": {
        "id": "4xOGYyiBpUZf"
      }
    },
    {
      "cell_type": "markdown",
      "source": [
        "### Hypothetical Statement - 3"
      ],
      "metadata": {
        "id": "bn_IUdTipZyH"
      }
    },
    {
      "cell_type": "markdown",
      "source": [
        "#### 1. State Your research hypothesis as a null hypothesis and alternate hypothesis."
      ],
      "metadata": {
        "id": "49K5P_iCpZyH"
      }
    },
    {
      "cell_type": "markdown",
      "source": [
        "Answer Here."
      ],
      "metadata": {
        "id": "7gWI5rT9pZyH"
      }
    },
    {
      "cell_type": "markdown",
      "source": [
        "#### 2. Perform an appropriate statistical test."
      ],
      "metadata": {
        "id": "Nff-vKELpZyI"
      }
    },
    {
      "cell_type": "code",
      "source": [
        "# Perform Statistical Test to obtain P-Value"
      ],
      "metadata": {
        "id": "s6AnJQjtpZyI"
      },
      "execution_count": null,
      "outputs": []
    },
    {
      "cell_type": "markdown",
      "source": [
        "##### Which statistical test have you done to obtain P-Value?"
      ],
      "metadata": {
        "id": "kLW572S8pZyI"
      }
    },
    {
      "cell_type": "markdown",
      "source": [
        "Answer Here."
      ],
      "metadata": {
        "id": "ytWJ8v15pZyI"
      }
    },
    {
      "cell_type": "markdown",
      "source": [
        "##### Why did you choose the specific statistical test?"
      ],
      "metadata": {
        "id": "dWbDXHzopZyI"
      }
    },
    {
      "cell_type": "markdown",
      "source": [
        "Answer Here."
      ],
      "metadata": {
        "id": "M99G98V6pZyI"
      }
    },
    {
      "cell_type": "markdown",
      "source": [
        "## ***6. Feature Engineering & Data Pre-processing***"
      ],
      "metadata": {
        "id": "yLjJCtPM0KBk"
      }
    },
    {
      "cell_type": "markdown",
      "source": [
        "### 1. Handling Missing Values"
      ],
      "metadata": {
        "id": "xiyOF9F70UgQ"
      }
    },
    {
      "cell_type": "code",
      "source": [
        "# Treatment of Outliers in our dependent Variable(applying square root transformation)\n",
        "fig,(ax1,ax2)=plt.subplots(1,2,figsize=(16,6))\n",
        "sns.kdeplot(np.sqrt(bike_df_copy['Rented_Bike_Count']),color='y',fill=True,ax=ax1)\n",
        "ax1.axvline(np.sqrt(bike_df_copy['Rented_Bike_Count']).mean(), color='green', linestyle='dashed', linewidth=2)\n",
        "ax1.axvline(np.sqrt(bike_df_copy['Rented_Bike_Count']).median(), color='blue', linestyle='dashed', linewidth=2)\n",
        "sns.boxplot(x= np.sqrt(bike_df_copy['Rented_Bike_Count']),color='y')\n",
        "plt.show()"
      ],
      "metadata": {
        "id": "iRsAHk1K0fpS"
      },
      "execution_count": null,
      "outputs": []
    },
    {
      "cell_type": "markdown",
      "source": [
        "#### What all missing value imputation techniques have you used and why did you use those techniques?"
      ],
      "metadata": {
        "id": "7wuGOrhz0itI"
      }
    },
    {
      "cell_type": "markdown",
      "source": [
        "Answer Here."
      ],
      "metadata": {
        "id": "1ixusLtI0pqI"
      }
    },
    {
      "cell_type": "markdown",
      "source": [
        "### 2. Handling Outliers"
      ],
      "metadata": {
        "id": "id1riN9m0vUs"
      }
    },
    {
      "cell_type": "code",
      "source": [
        "# Handling Outliers & Outlier treatments"
      ],
      "metadata": {
        "id": "M6w2CzZf04JK"
      },
      "execution_count": null,
      "outputs": []
    },
    {
      "cell_type": "markdown",
      "source": [
        "##### What all outlier treatment techniques have you used and why did you use those techniques?"
      ],
      "metadata": {
        "id": "578E2V7j08f6"
      }
    },
    {
      "cell_type": "markdown",
      "source": [
        "Answer Here."
      ],
      "metadata": {
        "id": "uGZz5OrT1HH-"
      }
    },
    {
      "cell_type": "markdown",
      "source": [
        "### 3. Categorical Encoding"
      ],
      "metadata": {
        "id": "89xtkJwZ18nB"
      }
    },
    {
      "cell_type": "code",
      "source": [
        "#ONE HOT ENCODING\n",
        "cat_features=['Hour', 'Seasons', 'Holiday', 'Functioning_Day', 'month',\n",
        "       'weekend']\n",
        "def one_hot_encoding(data, column):\n",
        "    data = pd.concat([data, pd.get_dummies(data[column], prefix=column, drop_first=True)], axis=1)\n",
        "    data = data.drop([column], axis=1)\n",
        "    return data\n"
      ],
      "metadata": {
        "id": "21JmIYMG2hEo"
      },
      "execution_count": null,
      "outputs": []
    },
    {
      "cell_type": "code",
      "source": [
        "for col in cat_features:\n",
        "    bike_df_copy = one_hot_encoding(bike_df_copy, col)\n",
        "bike_df_copy.head()"
      ],
      "metadata": {
        "id": "uNWXUBjFiJYr"
      },
      "execution_count": null,
      "outputs": []
    },
    {
      "cell_type": "code",
      "source": [
        "bike_df_copy.columns"
      ],
      "metadata": {
        "id": "D7KMsKXpiPrM"
      },
      "execution_count": null,
      "outputs": []
    },
    {
      "cell_type": "markdown",
      "source": [
        "#### What all categorical encoding techniques have you used & why did you use those techniques?"
      ],
      "metadata": {
        "id": "67NQN5KX2AMe"
      }
    },
    {
      "cell_type": "markdown",
      "source": [
        "Answer Here."
      ],
      "metadata": {
        "id": "UDaue5h32n_G"
      }
    },
    {
      "cell_type": "markdown",
      "source": [
        "### 4. Textual Data Preprocessing\n",
        "(It's mandatory for textual dataset i.e., NLP, Sentiment Analysis, Text Clustering etc.)"
      ],
      "metadata": {
        "id": "Iwf50b-R2tYG"
      }
    },
    {
      "cell_type": "markdown",
      "source": [
        "#### 1. Expand Contraction"
      ],
      "metadata": {
        "id": "GMQiZwjn3iu7"
      }
    },
    {
      "cell_type": "code",
      "source": [
        "# Expand Contraction"
      ],
      "metadata": {
        "id": "PTouz10C3oNN"
      },
      "execution_count": null,
      "outputs": []
    },
    {
      "cell_type": "markdown",
      "source": [
        "#### 2. Lower Casing"
      ],
      "metadata": {
        "id": "WVIkgGqN3qsr"
      }
    },
    {
      "cell_type": "code",
      "source": [
        "# Lower Casing"
      ],
      "metadata": {
        "id": "88JnJ1jN3w7j"
      },
      "execution_count": null,
      "outputs": []
    },
    {
      "cell_type": "markdown",
      "source": [
        "#### 3. Removing Punctuations"
      ],
      "metadata": {
        "id": "XkPnILGE3zoT"
      }
    },
    {
      "cell_type": "code",
      "source": [
        "# Remove Punctuations"
      ],
      "metadata": {
        "id": "vqbBqNaA33c0"
      },
      "execution_count": null,
      "outputs": []
    },
    {
      "cell_type": "markdown",
      "source": [
        "#### 4. Removing URLs & Removing words and digits contain digits."
      ],
      "metadata": {
        "id": "Hlsf0x5436Go"
      }
    },
    {
      "cell_type": "code",
      "source": [
        "# Remove URLs & Remove words and digits contain digits"
      ],
      "metadata": {
        "id": "2sxKgKxu4Ip3"
      },
      "execution_count": null,
      "outputs": []
    },
    {
      "cell_type": "markdown",
      "source": [
        "#### 5. Removing Stopwords & Removing White spaces"
      ],
      "metadata": {
        "id": "mT9DMSJo4nBL"
      }
    },
    {
      "cell_type": "code",
      "source": [
        "# Remove Stopwords"
      ],
      "metadata": {
        "id": "T2LSJh154s8W"
      },
      "execution_count": null,
      "outputs": []
    },
    {
      "cell_type": "code",
      "source": [
        "# Remove White spaces"
      ],
      "metadata": {
        "id": "EgLJGffy4vm0"
      },
      "execution_count": null,
      "outputs": []
    },
    {
      "cell_type": "markdown",
      "source": [
        "#### 6. Rephrase Text"
      ],
      "metadata": {
        "id": "c49ITxTc407N"
      }
    },
    {
      "cell_type": "code",
      "source": [
        "# Rephrase Text"
      ],
      "metadata": {
        "id": "foqY80Qu48N2"
      },
      "execution_count": null,
      "outputs": []
    },
    {
      "cell_type": "markdown",
      "source": [
        "#### 7. Tokenization"
      ],
      "metadata": {
        "id": "OeJFEK0N496M"
      }
    },
    {
      "cell_type": "code",
      "source": [
        "# Tokenization"
      ],
      "metadata": {
        "id": "ijx1rUOS5CUU"
      },
      "execution_count": null,
      "outputs": []
    },
    {
      "cell_type": "markdown",
      "source": [
        "#### 8. Text Normalization"
      ],
      "metadata": {
        "id": "9ExmJH0g5HBk"
      }
    },
    {
      "cell_type": "code",
      "source": [
        "# Normalizing Text (i.e., Stemming, Lemmatization etc.)"
      ],
      "metadata": {
        "id": "AIJ1a-Zc5PY8"
      },
      "execution_count": null,
      "outputs": []
    },
    {
      "cell_type": "markdown",
      "source": [
        "##### Which text normalization technique have you used and why?"
      ],
      "metadata": {
        "id": "cJNqERVU536h"
      }
    },
    {
      "cell_type": "markdown",
      "source": [
        "Answer Here."
      ],
      "metadata": {
        "id": "Z9jKVxE06BC1"
      }
    },
    {
      "cell_type": "markdown",
      "source": [
        "#### 9. Part of speech tagging"
      ],
      "metadata": {
        "id": "k5UmGsbsOxih"
      }
    },
    {
      "cell_type": "code",
      "source": [
        "# POS Taging"
      ],
      "metadata": {
        "id": "btT3ZJBAO6Ik"
      },
      "execution_count": null,
      "outputs": []
    },
    {
      "cell_type": "markdown",
      "source": [
        "#### 10. Text Vectorization"
      ],
      "metadata": {
        "id": "T0VqWOYE6DLQ"
      }
    },
    {
      "cell_type": "code",
      "source": [
        "# Vectorizing Text"
      ],
      "metadata": {
        "id": "yBRtdhth6JDE"
      },
      "execution_count": null,
      "outputs": []
    },
    {
      "cell_type": "markdown",
      "source": [
        "##### Which text vectorization technique have you used and why?"
      ],
      "metadata": {
        "id": "qBMux9mC6MCf"
      }
    },
    {
      "cell_type": "markdown",
      "source": [
        "Answer Here."
      ],
      "metadata": {
        "id": "su2EnbCh6UKQ"
      }
    },
    {
      "cell_type": "markdown",
      "source": [
        "### 4. Feature Manipulation & Selection"
      ],
      "metadata": {
        "id": "-oLEiFgy-5Pf"
      }
    },
    {
      "cell_type": "markdown",
      "source": [
        "#### 1. Feature Manipulation"
      ],
      "metadata": {
        "id": "C74aWNz2AliB"
      }
    },
    {
      "cell_type": "code",
      "source": [
        "# Manipulate Features to minimize feature correlation and create new features"
      ],
      "metadata": {
        "id": "h1qC4yhBApWC"
      },
      "execution_count": null,
      "outputs": []
    },
    {
      "cell_type": "markdown",
      "source": [
        "#### 2. Feature Selection"
      ],
      "metadata": {
        "id": "2DejudWSA-a0"
      }
    },
    {
      "cell_type": "code",
      "source": [
        "# Select your features wisely to avoid overfitting"
      ],
      "metadata": {
        "id": "YLhe8UmaBCEE"
      },
      "execution_count": null,
      "outputs": []
    },
    {
      "cell_type": "markdown",
      "source": [
        "##### What all feature selection methods have you used  and why?"
      ],
      "metadata": {
        "id": "pEMng2IbBLp7"
      }
    },
    {
      "cell_type": "markdown",
      "source": [
        "Answer Here."
      ],
      "metadata": {
        "id": "rb2Lh6Z8BgGs"
      }
    },
    {
      "cell_type": "markdown",
      "source": [
        "##### Which all features you found important and why?"
      ],
      "metadata": {
        "id": "rAdphbQ9Bhjc"
      }
    },
    {
      "cell_type": "markdown",
      "source": [
        "Answer Here."
      ],
      "metadata": {
        "id": "fGgaEstsBnaf"
      }
    },
    {
      "cell_type": "markdown",
      "source": [
        "### 5. Data Transformation"
      ],
      "metadata": {
        "id": "TNVZ9zx19K6k"
      }
    },
    {
      "cell_type": "markdown",
      "source": [
        "#### Do you think that your data needs to be transformed? If yes, which transformation have you used. Explain Why?"
      ],
      "metadata": {
        "id": "nqoHp30x9hH9"
      }
    },
    {
      "cell_type": "code",
      "source": [
        "# Transform Your data"
      ],
      "metadata": {
        "id": "I6quWQ1T9rtH"
      },
      "execution_count": null,
      "outputs": []
    },
    {
      "cell_type": "markdown",
      "source": [
        "### 6. Data Scaling"
      ],
      "metadata": {
        "id": "rMDnDkt2B6du"
      }
    },
    {
      "cell_type": "code",
      "source": [
        "# Scaling your data\n",
        "features = list(set(bike_df_copy.columns) - {'Rented_Bike_Count'})\n",
        "from scipy.stats import zscore\n",
        "bike_df_copy[features]=bike_df_copy[features].apply(zscore)"
      ],
      "metadata": {
        "id": "dL9LWpySC6x_"
      },
      "execution_count": null,
      "outputs": []
    },
    {
      "cell_type": "markdown",
      "source": [
        "##### Which method have you used to scale you data and why?"
      ],
      "metadata": {
        "id": "yiiVWRdJDDil"
      }
    },
    {
      "cell_type": "markdown",
      "source": [
        "### 7. Dimesionality Reduction"
      ],
      "metadata": {
        "id": "1UUpS68QDMuG"
      }
    },
    {
      "cell_type": "markdown",
      "source": [
        "##### Do you think that dimensionality reduction is needed? Explain Why?"
      ],
      "metadata": {
        "id": "kexQrXU-DjzY"
      }
    },
    {
      "cell_type": "markdown",
      "source": [
        "Answer Here."
      ],
      "metadata": {
        "id": "GGRlBsSGDtTQ"
      }
    },
    {
      "cell_type": "code",
      "source": [
        "# DImensionality Reduction (If needed)"
      ],
      "metadata": {
        "id": "kQfvxBBHDvCa"
      },
      "execution_count": null,
      "outputs": []
    },
    {
      "cell_type": "markdown",
      "source": [
        "##### Which dimensionality reduction technique have you used and why? (If dimensionality reduction done on dataset.)"
      ],
      "metadata": {
        "id": "T5CmagL3EC8N"
      }
    },
    {
      "cell_type": "markdown",
      "source": [
        "Answer Here."
      ],
      "metadata": {
        "id": "ZKr75IDuEM7t"
      }
    },
    {
      "cell_type": "markdown",
      "source": [
        "### 8. Data Splitting"
      ],
      "metadata": {
        "id": "BhH2vgX9EjGr"
      }
    },
    {
      "cell_type": "code",
      "source": [
        "# Split your data to train and test. Choose Splitting ratio wisely."
      ],
      "metadata": {
        "id": "0CTyd2UwEyNM"
      },
      "execution_count": null,
      "outputs": []
    },
    {
      "cell_type": "markdown",
      "source": [
        "##### What data splitting ratio have you used and why?"
      ],
      "metadata": {
        "id": "qjKvONjwE8ra"
      }
    },
    {
      "cell_type": "markdown",
      "source": [
        "Answer Here."
      ],
      "metadata": {
        "id": "Y2lJ8cobFDb_"
      }
    },
    {
      "cell_type": "markdown",
      "source": [
        "### 9. Handling Imbalanced Dataset"
      ],
      "metadata": {
        "id": "P1XJ9OREExlT"
      }
    },
    {
      "cell_type": "markdown",
      "source": [
        "##### Do you think the dataset is imbalanced? Explain Why."
      ],
      "metadata": {
        "id": "VFOzZv6IFROw"
      }
    },
    {
      "cell_type": "markdown",
      "source": [
        "Answer Here."
      ],
      "metadata": {
        "id": "GeKDIv7pFgcC"
      }
    },
    {
      "cell_type": "code",
      "source": [
        "# Handling Imbalanced Dataset (If needed)"
      ],
      "metadata": {
        "id": "nQsRhhZLFiDs"
      },
      "execution_count": null,
      "outputs": []
    },
    {
      "cell_type": "markdown",
      "source": [
        "##### What technique did you use to handle the imbalance dataset and why? (If needed to be balanced)"
      ],
      "metadata": {
        "id": "TIqpNgepFxVj"
      }
    },
    {
      "cell_type": "markdown",
      "source": [
        "Answer Here."
      ],
      "metadata": {
        "id": "qbet1HwdGDTz"
      }
    },
    {
      "cell_type": "markdown",
      "source": [
        "## ***7. ML Model Implementation***"
      ],
      "metadata": {
        "id": "VfCC591jGiD4"
      }
    },
    {
      "cell_type": "markdown",
      "source": [
        "### ML Model - 1"
      ],
      "metadata": {
        "id": "OB4l2ZhMeS1U"
      }
    },
    {
      "cell_type": "code",
      "source": [
        "# ML Model - 1 Implementation\n",
        "\n",
        "# Fit the Algorithm\n",
        "\n",
        "# Predict on the model"
      ],
      "metadata": {
        "id": "7ebyywQieS1U"
      },
      "execution_count": null,
      "outputs": []
    },
    {
      "cell_type": "code",
      "source": [
        "X=bike_df_copy.drop('Rented_Bike_Count',axis=1)\n",
        "y=np.sqrt(bike_df_copy['Rented_Bike_Count'])"
      ],
      "metadata": {
        "id": "7z1MV3fqipXQ"
      },
      "execution_count": null,
      "outputs": []
    },
    {
      "cell_type": "code",
      "source": [
        "# TRAIN TEST SPLIT\n",
        "X_train,X_test,y_train,y_test= train_test_split(X,y,test_size=0.25,random_state=19)\n",
        "print(X_train.shape)\n",
        "print(X_test.shape)"
      ],
      "metadata": {
        "id": "Toi1Ps8visfY"
      },
      "execution_count": null,
      "outputs": []
    },
    {
      "cell_type": "markdown",
      "source": [
        "### **Linear Regression**"
      ],
      "metadata": {
        "id": "laXAVIdMi5a1"
      }
    },
    {
      "cell_type": "code",
      "source": [
        "lr=LinearRegression()\n",
        "lr.fit(X_train,y_train)"
      ],
      "metadata": {
        "id": "zv81ar0eo1f1"
      },
      "execution_count": null,
      "outputs": []
    },
    {
      "cell_type": "code",
      "source": [
        "#check the score\n",
        "lr.score(X_train,y_train)"
      ],
      "metadata": {
        "id": "LcaUh_YSo7yf"
      },
      "execution_count": null,
      "outputs": []
    },
    {
      "cell_type": "code",
      "source": [
        "#check the coefficient\n",
        "lr.coef_"
      ],
      "metadata": {
        "id": "ckdVdpfdo9aF"
      },
      "execution_count": null,
      "outputs": []
    },
    {
      "cell_type": "code",
      "source": [
        "# Prediction\n",
        "y_pred_train= lr.predict(X_train)\n",
        "y_pred_test= lr.predict(X_test)"
      ],
      "metadata": {
        "id": "TWnNc7JLpAjV"
      },
      "execution_count": null,
      "outputs": []
    },
    {
      "cell_type": "code",
      "source": [
        "# Calculate: Training Set\n",
        "# 1. mean_squared_error\n",
        "mse_lr= mean_squared_error(y_train,y_pred_train)\n",
        "print('MSE :' , mse_lr)\n",
        "#2. Root_mean_squared_error\n",
        "rmse_lr=np.sqrt(mse_lr)\n",
        "print('RMSE :' , rmse_lr)\n",
        "#3. mean_absolute_error\n",
        "mae_lr=mean_absolute_error(y_train,y_pred_train)\n",
        "print('MAE :' ,mae_lr)\n",
        "#4. coefficient of determination(r2_score)\n",
        "r2_lr=r2_score(y_train,y_pred_train)\n",
        "print('R2 :' ,r2_lr)\n",
        "#5. adjusted  coefficient of determination\n",
        "adjusted_r2_lr=(1-(1-r2_score(y_train,y_pred_train))*((X_train.shape[0]-1)/(X_train.shape[0]-X_train.shape[1]-1)))\n",
        "print('Adjusted R2 :' ,adjusted_r2_lr)"
      ],
      "metadata": {
        "id": "EHV-hhl8pCIb"
      },
      "execution_count": null,
      "outputs": []
    },
    {
      "cell_type": "code",
      "source": [
        "#Storing\n",
        "lr_dict={'Model':'Linear Regression','MAE':round(mae_lr,2),'MSE':round(mse_lr,2),'RMSE':round(rmse_lr,2),'R2_score':round(r2_lr,2),'Adjusted R2_score':round(adjusted_r2_lr,2)}\n",
        "training_df=pd.DataFrame(lr_dict,index=[1])\n",
        "training_df"
      ],
      "metadata": {
        "id": "pQWiKtKEpCLs"
      },
      "execution_count": null,
      "outputs": []
    },
    {
      "cell_type": "code",
      "source": [
        "# Calculate: Test Set\n",
        "# 1. mean_squared_error\n",
        "mse_lr= mean_squared_error(y_test,y_pred_test)\n",
        "print('MSE :' , mse_lr)\n",
        "#2. Root_mean_squared_error\n",
        "rmse_lr=np.sqrt(mse_lr)\n",
        "print('RMSE :' , rmse_lr)\n",
        "#3. mean_absolute_error\n",
        "mae_lr=mean_absolute_error(y_test,y_pred_test)\n",
        "print('MAE :' ,mae_lr)\n",
        "#4. coefficient of determination(r2_score)\n",
        "r2_lr=r2_score(y_test,y_pred_test)\n",
        "print('R2 :' ,r2_lr)\n",
        "#5. adjusted  coefficient of determination\n",
        "adjusted_r2_lr=(1-(1-r2_score(y_test,y_pred_test))*((X_train.shape[0]-1)/(X_train.shape[0]-X_train.shape[1]-1)))\n",
        "print('Adjusted R2 :' ,adjusted_r2_lr)"
      ],
      "metadata": {
        "id": "VBoLz8VKpCPF"
      },
      "execution_count": null,
      "outputs": []
    },
    {
      "cell_type": "markdown",
      "source": [
        "### **Concluding Remark:**\n",
        "\n",
        "* The linear regression model shows moderate performance on both the training and test sets.\n",
        "* The model achieves an R-squared (R2) value of approximately 0.76, indicating that around 76% of the variance in the target variable is explained by the independent variables.\n",
        "* The mean squared error (MSE) values are 36.49 (training set) and 37.49 (test set), suggesting moderate errors in the predictions.\n",
        "* The root mean squared error (RMSE) values are around 6.04 and 6.12, indicating the average magnitude of the errors.\n",
        "* The mean absolute error (MAE) values are approximately 4.55 and 4.56, representing the average absolute deviation of the predictions.\n",
        "* The adjusted R-squared values account for the number of predictors in the model, showing a similar pattern.\n",
        "* Overall, further analysis and model refinement may be beneficial to improve the performance."
      ],
      "metadata": {
        "id": "mDemBrtPpNU1"
      }
    },
    {
      "cell_type": "code",
      "source": [
        "#Storing\n",
        "lr_dict2={'Model':'Linear Regression','MAE':round(mae_lr,2),'MSE':round(mse_lr,2),'RMSE':round(rmse_lr,2),'R2_score':round(r2_lr,2),'Adjusted R2_score':round(adjusted_r2_lr,2)}\n",
        "test_df=pd.DataFrame(lr_dict2,index=[1])\n",
        "test_df"
      ],
      "metadata": {
        "id": "M3ts9XOEpRCy"
      },
      "execution_count": null,
      "outputs": []
    },
    {
      "cell_type": "code",
      "source": [
        "# Checking Heteroscedasticity\n",
        "residuals = y_test - y_pred_test\n",
        "sns.scatterplot(x=y_pred_test, y=residuals,color='salmon')\n",
        "\n",
        "# Add a horizontal line at y=0\n",
        "plt.axhline(y=0, color='red', linestyle='--')\n",
        "\n",
        "\n",
        "plt.xlabel('Predicted Values')\n",
        "plt.ylabel('Residuals')\n",
        "plt.title('Residual Plot')\n",
        "\n",
        "plt.show()\n"
      ],
      "metadata": {
        "id": "zjL09O4DpRLF"
      },
      "execution_count": null,
      "outputs": []
    },
    {
      "cell_type": "markdown",
      "source": [
        "* **Since,the  points in the scatter plot are more or less evenly distributed on both sides of the line y=0, it suggests that the residuals have relatively consistent variability across the range of predicted values. This indicates homoscedasticity rather than heteroscedasticity**."
      ],
      "metadata": {
        "id": "Zct7S_JZpWo9"
      }
    },
    {
      "cell_type": "code",
      "source": [
        "plt.figure(figsize=(16,10))\n",
        "plt.scatter(range(len(y_pred_test)),y_pred_test,s=20,c='green',label='Predicted')\n",
        "plt.scatter(range(len(y_test)), y_test, s=20, c='red', label='Actual')\n",
        "plt.legend()\n",
        "plt.xlabel('number of test data')\n",
        "plt.show()\n"
      ],
      "metadata": {
        "id": "2ZReRXiYpRN6"
      },
      "execution_count": null,
      "outputs": []
    },
    {
      "cell_type": "markdown",
      "source": [
        "### **Lasso Regression(L1 Regularization)**"
      ],
      "metadata": {
        "id": "Bb01S3mtqMBd"
      }
    },
    {
      "cell_type": "code",
      "source": [
        "lasso = Lasso(alpha=0.1,max_iter=3500)\n",
        "lasso.fit(X_train,y_train)\n"
      ],
      "metadata": {
        "id": "LykUFqMuqQ0x"
      },
      "execution_count": null,
      "outputs": []
    },
    {
      "cell_type": "code",
      "source": [
        "#check the score\n",
        "lasso.score(X_train,y_train)"
      ],
      "metadata": {
        "id": "YcHkCpmcqQ3m"
      },
      "execution_count": null,
      "outputs": []
    },
    {
      "cell_type": "code",
      "source": [
        "# Prediction\n",
        "y_pred_train_lasso= lasso.predict(X_train)\n",
        "y_pred_test_lasso= lasso.predict(X_test)"
      ],
      "metadata": {
        "id": "XQ29G9crqQ6k"
      },
      "execution_count": null,
      "outputs": []
    },
    {
      "cell_type": "code",
      "source": [
        "# Calculate: Training Set\n",
        "# 1. mean_squared_error\n",
        "mse_lasso= mean_squared_error(y_train,y_pred_train_lasso)\n",
        "print('MSE :' , mse_lasso)\n",
        "#2. Root_mean_squared_error\n",
        "rmse_lasso=np.sqrt(mse_lasso)\n",
        "print('RMSE :' , rmse_lasso)\n",
        "#3. mean_absolute_error\n",
        "mae_lasso=mean_absolute_error(y_train,y_pred_train_lasso)\n",
        "print('MAE :' ,mae_lasso)\n",
        "#4. coefficient of determination(r2_score)\n",
        "r2_lasso=r2_score(y_train,y_pred_train_lasso)\n",
        "print('R2 :' ,r2_lasso)\n",
        "#5. adjusted  coefficient of determination\n",
        "adjusted_r2_lasso=(1-(1-r2_score(y_train,y_pred_train_lasso))*((X_train.shape[0]-1)/(X_train.shape[0]-X_train.shape[1]-1)))\n",
        "print('Adjusted R2 :' ,adjusted_r2_lasso)"
      ],
      "metadata": {
        "id": "HL2_Au1XqQ9a"
      },
      "execution_count": null,
      "outputs": []
    },
    {
      "cell_type": "code",
      "source": [
        "#Storing\n",
        "lasso_dict={'Model':'Lasso Regression','MAE':round(mae_lasso,2),'MSE':round(mse_lasso,2),'RMSE':round(rmse_lasso,2),'R2_score':round(r2_lasso,2),'Adjusted R2_score':round(adjusted_r2_lasso,2)}\n",
        "training_df=training_df.append(lasso_dict,ignore_index=True)\n",
        "training_df"
      ],
      "metadata": {
        "id": "BTT4EXlyqQ_u"
      },
      "execution_count": null,
      "outputs": []
    },
    {
      "cell_type": "code",
      "source": [
        "# Calculate: Test  Set\n",
        "# 1. mean_squared_error\n",
        "mse_lasso= mean_squared_error(y_test,y_pred_test_lasso)\n",
        "print('MSE :' , mse_lasso)\n",
        "#2. Root_mean_squared_error\n",
        "rmse_lasso=np.sqrt(mse_lasso)\n",
        "print('RMSE :' , rmse_lasso)\n",
        "#3. mean_absolute_error\n",
        "mae_lasso=mean_absolute_error(y_test,y_pred_test_lasso)\n",
        "print('MAE :' ,mae_lasso)\n",
        "#4. coefficient of determination(r2_score)\n",
        "r2_lasso=r2_score(y_test,y_pred_test_lasso)\n",
        "print('R2 :' ,r2_lasso)\n",
        "#5. adjusted  coefficient of determination\n",
        "adjusted_r2_lasso=(1-(1-r2_score(y_test,y_pred_test_lasso))*((X_test.shape[0]-1)/(X_test.shape[0]-X_test.shape[1]-1)))\n",
        "print('Adjusted R2 :' ,adjusted_r2_lasso)"
      ],
      "metadata": {
        "id": "j0rt4sWOqRCA"
      },
      "execution_count": null,
      "outputs": []
    },
    {
      "cell_type": "code",
      "source": [
        "#Storing\n",
        "lasso_dict2={'Model':'Lasso Regression','MAE':round(mae_lasso,2),'MSE':round(mse_lasso,2),'RMSE':round(rmse_lasso,2),'R2_score':round(r2_lasso,2),'Adjusted R2_score':round(adjusted_r2_lasso,2)}\n",
        "test_df=test_df.append(lasso_dict2,ignore_index=True)\n",
        "test_df"
      ],
      "metadata": {
        "id": "DAbF0Il9qREs"
      },
      "execution_count": null,
      "outputs": []
    },
    {
      "cell_type": "markdown",
      "source": [
        "###**Ridge Regression(L2 Regularization)**"
      ],
      "metadata": {
        "id": "bBPkP2mqqdo6"
      }
    },
    {
      "cell_type": "code",
      "source": [
        "ridge=Ridge(alpha=0.1)\n",
        "ridge.fit(X_train,y_train)"
      ],
      "metadata": {
        "id": "RkpWerOWqRHA"
      },
      "execution_count": null,
      "outputs": []
    },
    {
      "cell_type": "code",
      "source": [
        "#check the score\n",
        "ridge.score(X_train,y_train)"
      ],
      "metadata": {
        "id": "nBHHaffiqbqq"
      },
      "execution_count": null,
      "outputs": []
    },
    {
      "cell_type": "code",
      "source": [
        "# Prediction\n",
        "y_pred_train_ridge= ridge.predict(X_train)\n",
        "y_pred_test_ridge= ridge.predict(X_test)"
      ],
      "metadata": {
        "id": "Q4Mt5H8Oqbvt"
      },
      "execution_count": null,
      "outputs": []
    },
    {
      "cell_type": "code",
      "source": [
        "# Calculate: Training Set\n",
        "# 1. mean_squared_error\n",
        "mse_ridge= mean_squared_error(y_train,y_pred_train_ridge)\n",
        "print('MSE :' , mse_ridge)\n",
        "#2. Root_mean_squared_error\n",
        "rmse_ridge=np.sqrt(mse_ridge)\n",
        "print('RMSE :' , rmse_ridge)\n",
        "#3. mean_absolute_error\n",
        "mae_ridge=mean_absolute_error(y_train,y_pred_train_ridge)\n",
        "print('MAE :' ,mae_ridge)\n",
        "#4. coefficient of determination(r2_score)\n",
        "r2_ridge=r2_score(y_train,y_pred_train_ridge)\n",
        "print('R2 :' ,r2_ridge)\n",
        "#5. adjusted  coefficient of determination\n",
        "adjusted_r2_ridge=(1-(1-r2_score(y_train,y_pred_train_ridge))*((X_train.shape[0]-1)/(X_train.shape[0]-X_train.shape[1]-1)))\n",
        "print('Adjusted R2 :' ,adjusted_r2_ridge)"
      ],
      "metadata": {
        "id": "9mj78n2Gqb1v"
      },
      "execution_count": null,
      "outputs": []
    },
    {
      "cell_type": "code",
      "source": [
        "#Storing\n",
        "ridge_dict={'Model':'Ridge Regression','MAE':round(mae_ridge,2),'MSE':round(mse_ridge,2),'RMSE':round(rmse_ridge,2),'R2_score':round(r2_ridge,2),'Adjusted R2_score':round(adjusted_r2_ridge,2)}\n",
        "training_df=training_df.append(ridge_dict,ignore_index=True)"
      ],
      "metadata": {
        "id": "KigUptQdqb41"
      },
      "execution_count": null,
      "outputs": []
    },
    {
      "cell_type": "code",
      "source": [
        "# Calculate: Test Set\n",
        "# 1. mean_squared_error\n",
        "mse_ridge= mean_squared_error(y_test,y_pred_test_ridge)\n",
        "print('MSE :' , mse_ridge)\n",
        "#2. Root_mean_squared_error\n",
        "rmse_ridge=np.sqrt(mse_ridge)\n",
        "print('RMSE :' , rmse_ridge)\n",
        "#3. mean_absolute_error\n",
        "mae_ridge=mean_absolute_error(y_test,y_pred_test_ridge)\n",
        "print('MAE :' ,mae_ridge)\n",
        "#4. coefficient of determination(r2_score)\n",
        "r2_ridge=r2_score(y_test,y_pred_test_ridge)\n",
        "print('R2 :' ,r2_ridge)\n",
        "#5. adjusted  coefficient of determination\n",
        "adjusted_r2_ridge=(1-(1-r2_score(y_test,y_pred_test_ridge))*((X_test.shape[0]-1)/(X_test.shape[0]-X_test.shape[1]-1)))\n",
        "print('Adjusted R2 :' ,adjusted_r2_ridge)"
      ],
      "metadata": {
        "id": "sGoVCMXEqb7-"
      },
      "execution_count": null,
      "outputs": []
    },
    {
      "cell_type": "code",
      "source": [
        "#Storing\n",
        "ridge_dict2={'Model':'Ridge Regression','MAE':round(mae_ridge,2),'MSE':round(mse_ridge,2),'RMSE':round(rmse_ridge,2),'R2_score':round(r2_ridge,2),'Adjusted R2_score':round(adjusted_r2_ridge,2)}\n",
        "test_df=test_df.append(ridge_dict2,ignore_index=True)"
      ],
      "metadata": {
        "id": "L0ggw2u8qb-L"
      },
      "execution_count": null,
      "outputs": []
    },
    {
      "cell_type": "markdown",
      "source": [
        "### **Elastic Net Regression**"
      ],
      "metadata": {
        "id": "nL0sDUSTqwR2"
      }
    },
    {
      "cell_type": "code",
      "source": [
        "#a * L1 + b * L2\n",
        "#alpha = a + b and l1_ratio = a / (a + b)\n",
        "elasticnet = ElasticNet(alpha=0.1, l1_ratio=0.5)\n",
        "elasticnet.fit(X_train,y_train)"
      ],
      "metadata": {
        "id": "yEqD5bFWqcAj"
      },
      "execution_count": null,
      "outputs": []
    },
    {
      "cell_type": "code",
      "source": [
        "#check the score\n",
        "elasticnet.score(X_train, y_train)"
      ],
      "metadata": {
        "id": "0I7_ZZvfqcIi"
      },
      "execution_count": null,
      "outputs": []
    },
    {
      "cell_type": "code",
      "source": [
        "#check the score\n",
        "elasticnet.score(X_train, y_train)"
      ],
      "metadata": {
        "id": "QKoGGFFUq3iG"
      },
      "execution_count": null,
      "outputs": []
    },
    {
      "cell_type": "code",
      "source": [
        "# Prediction\n",
        "y_pred_train_elasticnet= elasticnet.predict(X_train)\n",
        "y_pred_test_elasticnet= elasticnet.predict(X_test)"
      ],
      "metadata": {
        "id": "srg8skSHq3k5"
      },
      "execution_count": null,
      "outputs": []
    },
    {
      "cell_type": "code",
      "source": [
        "# Calculate: Training Set\n",
        "# 1. mean_squared_error\n",
        "mse_elasticnet= mean_squared_error(y_train,y_pred_train_elasticnet)\n",
        "print('MSE :' , mse_elasticnet)\n",
        "#2. Root_mean_squared_error\n",
        "rmse_elasticnet=np.sqrt(mse_elasticnet)\n",
        "print('RMSE :' , rmse_elasticnet)\n",
        "#3. mean_absolute_error\n",
        "mae_elasticnet=mean_absolute_error(y_train,y_pred_train_elasticnet)\n",
        "print('MAE :' ,mae_elasticnet)\n",
        "#4. coefficient of determination(r2_score)\n",
        "r2_elasticnet=r2_score(y_train,y_pred_train_elasticnet)\n",
        "print('R2 :' ,r2_elasticnet)\n",
        "#5. adjusted  coefficient of determination\n",
        "adjusted_r2_elasticnet=(1-(1-r2_score(y_train,y_pred_train_elasticnet))*((X_train.shape[0]-1)/(X_train.shape[0]-X_train.shape[1]-1)))\n",
        "print('Adjusted R2 :' ,adjusted_r2_elasticnet)\n"
      ],
      "metadata": {
        "id": "4bKLsPaHq3nx"
      },
      "execution_count": null,
      "outputs": []
    },
    {
      "cell_type": "code",
      "source": [
        "#Storing\n",
        "elasticnet_dict={'Model':'Elasticnet Regression','MAE':round(mae_elasticnet,2),'MSE':round(mse_elasticnet,2),'RMSE':round(rmse_elasticnet,2),'R2_score':round(r2_elasticnet,2),'Adjusted R2_score':round(adjusted_r2_elasticnet,2)}\n",
        "training_df=training_df.append(elasticnet_dict,ignore_index=True)\n"
      ],
      "metadata": {
        "id": "mIMOueOLq3qe"
      },
      "execution_count": null,
      "outputs": []
    },
    {
      "cell_type": "code",
      "source": [
        "# Calculate: Test Set\n",
        "# 1. mean_squared_error\n",
        "mse_elasticnet= mean_squared_error(y_test,y_pred_test_elasticnet)\n",
        "print('MSE :' , mse_elasticnet)\n",
        "#2. Root_mean_squared_error\n",
        "rmse_elasticnet=np.sqrt(mse_elasticnet)\n",
        "print('RMSE :' , rmse_elasticnet)\n",
        "#3. mean_absolute_error\n",
        "mae_elasticnet=mean_absolute_error(y_test,y_pred_test_elasticnet)\n",
        "print('MAE :' ,mae_elasticnet)\n",
        "#4. coefficient of determination(r2_score)\n",
        "r2_elasticnet=r2_score(y_test,y_pred_test_elasticnet)\n",
        "print('R2 :' ,r2_elasticnet)\n",
        "#5. adjusted  coefficient of determination\n",
        "adjusted_r2_elasticnet=(1-(1-r2_score(y_test,y_pred_test_elasticnet))*((X_test.shape[0]-1)/(X_test.shape[0]-X_test.shape[1]-1)))\n",
        "print('Adjusted R2 :' ,adjusted_r2_elasticnet)\n"
      ],
      "metadata": {
        "id": "sNAXIkmmq3tO"
      },
      "execution_count": null,
      "outputs": []
    },
    {
      "cell_type": "code",
      "source": [
        "#Storing\n",
        "elasticnet_dict2={'Model':'Elasticnet Regression','MAE':round(mae_elasticnet,2),'MSE':round(mse_elasticnet,2),'RMSE':round(rmse_elasticnet,2),'R2_score':round(r2_elasticnet,2),'Adjusted R2_score':round(adjusted_r2_elasticnet,2)}\n",
        "test_df=test_df.append(elasticnet_dict2,ignore_index=True)"
      ],
      "metadata": {
        "id": "GsoA4dr_q3wV"
      },
      "execution_count": null,
      "outputs": []
    },
    {
      "cell_type": "markdown",
      "source": [
        "### **Gradient Boosting**"
      ],
      "metadata": {
        "id": "uFZ8zF8rrBrG"
      }
    },
    {
      "cell_type": "code",
      "source": [
        "from sklearn.ensemble import GradientBoostingRegressor\n",
        "gbr=GradientBoostingRegressor()\n",
        "gbr.fit(X_train,y_train)"
      ],
      "metadata": {
        "id": "rtRtuYstrFJ3"
      },
      "execution_count": null,
      "outputs": []
    },
    {
      "cell_type": "code",
      "source": [
        "#check the score\n",
        "gbr.score(X_train,y_train)\n"
      ],
      "metadata": {
        "id": "MA0N7FEFrFM4"
      },
      "execution_count": null,
      "outputs": []
    },
    {
      "cell_type": "code",
      "source": [
        "# Prediction\n",
        "y_pred_train_gbr= gbr.predict(X_train)\n",
        "y_pred_test_gbr= gbr.predict(X_test)"
      ],
      "metadata": {
        "id": "rxz5vnw4rHIj"
      },
      "execution_count": null,
      "outputs": []
    },
    {
      "cell_type": "code",
      "source": [
        "# Calculate: Training Set\n",
        "# 1. mean_squared_error\n",
        "mse_gbr= mean_squared_error(y_train,y_pred_train_gbr)\n",
        "print('MSE :' , mse_gbr)\n",
        "#2. Root_mean_squared_error\n",
        "rmse_gbr=np.sqrt(mse_gbr)\n",
        "print('RMSE :' , rmse_gbr)\n",
        "#3. mean_absolute_error\n",
        "mae_gbr=mean_absolute_error(y_train,y_pred_train_gbr)\n",
        "print('MAE :' ,mae_gbr)\n",
        "#4. coefficient of determination(r2_score)\n",
        "r2_gbr=r2_score(y_train,y_pred_train_gbr)\n",
        "print('R2 :' ,r2_gbr)\n",
        "#5. adjusted  coefficient of determination\n",
        "adjusted_r2_gbr=(1-(1-r2_score(y_train,y_pred_train_gbr))*((X_train.shape[0]-1)/(X_train.shape[0]-X_train.shape[1]-1)))\n",
        "print('Adjusted R2 :' ,adjusted_r2_gbr)"
      ],
      "metadata": {
        "id": "HfKrd5QFrFPo"
      },
      "execution_count": null,
      "outputs": []
    },
    {
      "cell_type": "code",
      "source": [
        "#Storing\n",
        "gbr_dict={'Model':'Gradient Boosting Regression','MAE':round(mae_gbr,2),'MSE':round(mse_gbr,2),'RMSE':round(rmse_gbr,2),'R2_score':round(r2_gbr,2),'Adjusted R2_score':round(adjusted_r2_gbr,2)}\n",
        "training_df=training_df.append(gbr_dict,ignore_index=True)\n"
      ],
      "metadata": {
        "id": "ETJkUkwQrM73"
      },
      "execution_count": null,
      "outputs": []
    },
    {
      "cell_type": "code",
      "source": [
        "# Calculate: Test Set\n",
        "# 1. mean_squared_error\n",
        "mse_gbr= mean_squared_error(y_test,y_pred_test_gbr)\n",
        "print('MSE :' , mse_gbr)\n",
        "#2. Root_mean_squared_error\n",
        "rmse_gbr=np.sqrt(mse_gbr)\n",
        "print('RMSE :' , rmse_gbr)\n",
        "#3. mean_absolute_error\n",
        "mae_gbr=mean_absolute_error(y_test,y_pred_test_gbr)\n",
        "print('MAE :' ,mae_gbr)\n",
        "#4. coefficient of determination(r2_score)\n",
        "r2_gbr=r2_score(y_test,y_pred_test_gbr)\n",
        "print('R2 :' ,r2_gbr)\n",
        "#5. adjusted  coefficient of determination\n",
        "adjusted_r2_gbr=(1-(1-r2_score(y_test,y_pred_test_gbr))*((X_test.shape[0]-1)/(X_test.shape[0]-X_test.shape[1]-1)))\n",
        "print('Adjusted R2 :' ,adjusted_r2_gbr)"
      ],
      "metadata": {
        "id": "txe0Aoc9rM5Q"
      },
      "execution_count": null,
      "outputs": []
    },
    {
      "cell_type": "code",
      "source": [
        "#Storing\n",
        "gbr_dict2={'Model':'Gradient Boosting Regression','MAE':round(mae_gbr,2),'MSE':round(mse_gbr,2),'RMSE':round(rmse_gbr,2),'R2_score':round(r2_gbr,2),'Adjusted R2_score':round(adjusted_r2_gbr,2)}\n",
        "test_df=test_df.append(gbr_dict2,ignore_index=True)"
      ],
      "metadata": {
        "id": "ryKJRvhMrM3F"
      },
      "execution_count": null,
      "outputs": []
    },
    {
      "cell_type": "markdown",
      "source": [
        "### **Concluding Remark:**\n",
        "The gradient boosting regression model performs well on both the training and test sets:\n",
        "\n",
        "* It achieves a high R-squared (R2) value of approximately 0.86 (training set) and 0.85 (test set), indicating that around 86% and 85% of the variance in the target variable is explained by the model, respectively.\n",
        "\n",
        "* The mean squared error (MSE) values are 21.35 (training set) and 24.20 (test set), representing the average squared difference between the predicted and actual values. Lower MSE values indicate better model performance.\n",
        "\n",
        "* The root mean squared error (RMSE) values are 4.62 (training set) and 4.92 (test set), indicating the average magnitude of the errors. Smaller RMSE values suggest better model performance.\n",
        "\n",
        "* The mean absolute error (MAE) values are 3.43 (training set) and 3.71 (test set), representing the average absolute deviation of the predictions. Lower MAE values indicate better accuracy.\n",
        "\n",
        "Overall, the gradient boosting regression model demonstrates strong performance in predicting the target variable, with high R2 values and relatively low error metrics on both the training and test sets.\n"
      ],
      "metadata": {
        "id": "DPGeHj0Arvwf"
      }
    },
    {
      "cell_type": "code",
      "source": [
        "# Heteroscedasticity\n",
        "residuals = y_test - y_pred_test_gbr\n",
        "sns.scatterplot(x=y_pred_test_gbr, y=residuals,color='salmon')\n",
        "\n",
        "# Add a horizontal line at y=0\n",
        "plt.axhline(y=0, color='red', linestyle='--')\n",
        "\n",
        "\n",
        "plt.xlabel('Predicted Values')\n",
        "plt.ylabel('Residuals')\n",
        "plt.title('Residual Plot')\n",
        "\n",
        "plt.show()"
      ],
      "metadata": {
        "id": "pWtaGL8arMw7"
      },
      "execution_count": null,
      "outputs": []
    },
    {
      "cell_type": "code",
      "source": [
        "plt.figure(figsize=(16,10))\n",
        "plt.scatter(range(len(y_pred_test_gbr)),y_pred_test_gbr,s=20,c='green',label='Predicted')\n",
        "plt.scatter(range(len(y_test)), y_test, s=20, c='red', label='Actual')\n",
        "plt.legend()\n",
        "plt.xlabel('number of test data')\n",
        "plt.show()\n"
      ],
      "metadata": {
        "id": "Kj-tTzAYrFTA"
      },
      "execution_count": null,
      "outputs": []
    },
    {
      "cell_type": "code",
      "source": [
        "# FEATURE IMPORTANCES:\n",
        "gbr.feature_importances_"
      ],
      "metadata": {
        "id": "HajAxAbcr3zj"
      },
      "execution_count": null,
      "outputs": []
    },
    {
      "cell_type": "code",
      "source": [
        "importance=np.round(gbr.feature_importances_,2)\n",
        "importance_dict={'Feature':list(X_train.columns),'Feature Importance':importance}"
      ],
      "metadata": {
        "id": "0pIKAwnZr32P"
      },
      "execution_count": null,
      "outputs": []
    },
    {
      "cell_type": "code",
      "source": [
        "importance_df=pd.DataFrame(importance_dict)\n",
        "importance_df.sort_values(by=['Feature Importance'],ascending=False)"
      ],
      "metadata": {
        "id": "oFxmiNRAr34c"
      },
      "execution_count": null,
      "outputs": []
    },
    {
      "cell_type": "code",
      "source": [
        "features = X_train.columns\n",
        "importance =gbr.feature_importances_\n",
        "indices = np.argsort(importance)"
      ],
      "metadata": {
        "id": "iff-yVAkzgTZ"
      },
      "execution_count": null,
      "outputs": []
    },
    {
      "cell_type": "code",
      "source": [
        "#Plot the figure\n",
        "plt.figure(figsize=(10,20))\n",
        "plt.title('Feature Importance')\n",
        "plt.barh(range(len(indices)), importance[indices], color='salmon', align='center')\n",
        "plt.yticks(range(len(indices)), [features[i] for i in indices])\n",
        "plt.xlabel('Relative Importance')\n",
        "\n",
        "plt.show()"
      ],
      "metadata": {
        "id": "UOJdTLy9zgYy"
      },
      "execution_count": null,
      "outputs": []
    },
    {
      "cell_type": "markdown",
      "source": [
        "###**GridSearchCV**"
      ],
      "metadata": {
        "id": "-ED2pOKi2IQl"
      }
    },
    {
      "cell_type": "code",
      "source": [
        "#Provide the range of values for chosen hyperparameters\n",
        "# Number of Trees\n",
        "n_estimators=[50,80,100]\n",
        "\n",
        "#maximum depth of trees\n",
        "max_depth=[4,6,8]\n",
        "\n",
        "#minimum number of samples required to split a node\n",
        "min_sample_split=[80,120,160]\n",
        "\n",
        "#minimum number of samples required at each leaf node\n",
        "min_sample_leaf=[30,40,50]\n",
        "\n",
        "#hyperparameter Grid\n",
        "para_dict= {'n_estimators' : n_estimators,\n",
        "              'max_depth' : max_depth,\n",
        "              'min_samples_split' : min_sample_split,\n",
        "              'min_samples_leaf' : min_sample_leaf}"
      ],
      "metadata": {
        "id": "Ds8wPHQxzgeq"
      },
      "execution_count": null,
      "outputs": []
    },
    {
      "cell_type": "code",
      "source": [
        "gbr=GradientBoostingRegressor()\n",
        "\n",
        "gs=GridSearchCV(estimator=gbr,param_grid=para_dict,cv=5,verbose=2)\n",
        "\n",
        "gs.fit(X_train,y_train)"
      ],
      "metadata": {
        "id": "tU2ggYH5zgiU"
      },
      "execution_count": null,
      "outputs": []
    },
    {
      "cell_type": "code",
      "source": [
        "gs.best_estimator_"
      ],
      "metadata": {
        "id": "khIIikokzgmQ"
      },
      "execution_count": null,
      "outputs": []
    },
    {
      "cell_type": "code",
      "source": [
        "gs_optimal_model=gs.best_estimator_\n",
        "gs.best_params_"
      ],
      "metadata": {
        "id": "hB8K38Aozgqc"
      },
      "execution_count": null,
      "outputs": []
    },
    {
      "cell_type": "code",
      "source": [
        "# Making predictions on train and test data\n",
        "\n",
        "y_pred_train_gs=gs_optimal_model.predict(X_train)\n",
        "y_pred_test_gs = gs_optimal_model.predict(X_test)"
      ],
      "metadata": {
        "id": "XmVSAk0N2RZ9"
      },
      "execution_count": null,
      "outputs": []
    },
    {
      "cell_type": "code",
      "source": [
        "# Calculate: Training Set\n",
        "# 1. mean_squared_error\n",
        "mse_gs= mean_squared_error(y_train,y_pred_train_gs)\n",
        "print('MSE :' , mse_gs)\n",
        "#2. Root_mean_squared_error\n",
        "rmse_gs=np.sqrt(mse_gs)\n",
        "print('RMSE :' , rmse_gs)\n",
        "#3. mean_absolute_error\n",
        "mae_gs=mean_absolute_error(y_train,y_pred_train_gs)\n",
        "print('MAE :' ,mae_gs)\n",
        "#4. coefficient of determination(r2_score)\n",
        "r2_gs=r2_score(y_train,y_pred_train_gs)\n",
        "print('R2 :' ,r2_gs)\n",
        "#5. adjusted  coefficient of determination\n",
        "adjusted_r2_gs=(1-(1-r2_score(y_train,y_pred_train_gs))*((X_train.shape[0]-1)/(X_train.shape[0]-X_train.shape[1]-1)))\n",
        "print('Adjusted R2 :' ,adjusted_r2_gs)"
      ],
      "metadata": {
        "id": "m5X6vOcJ2Rju"
      },
      "execution_count": null,
      "outputs": []
    },
    {
      "cell_type": "code",
      "source": [
        "#Storing\n",
        "gs_dict={'Model':'Gradient Boosting GridSearchCV','MAE':round(mae_gs,2),'MSE':round(mse_gs,2),'RMSE':round(rmse_gs,2),'R2_score':round(r2_gs,2),'Adjusted R2_score':round(adjusted_r2_gs,2)}\n",
        "training_df=training_df.append(gs_dict,ignore_index=True)"
      ],
      "metadata": {
        "id": "aVbwiiTa2Rtq"
      },
      "execution_count": null,
      "outputs": []
    },
    {
      "cell_type": "code",
      "source": [
        "# Calculate: Test Set\n",
        "# 1. mean_squared_error\n",
        "mse_gs= mean_squared_error(y_test,y_pred_test_gs)\n",
        "print('MSE :' , mse_gs)\n",
        "#2. Root_mean_squared_error\n",
        "rmse_gs=np.sqrt(mse_gs)\n",
        "print('RMSE :' , rmse_gs)\n",
        "#3. mean_absolute_error\n",
        "mae_gs=mean_absolute_error(y_test,y_pred_test_gs)\n",
        "print('MAE :' ,mae_gs)\n",
        "#4. coefficient of determination(r2_score)\n",
        "r2_gs=r2_score(y_test,y_pred_test_gs)\n",
        "print('R2 :' ,r2_gs)\n",
        "#5. adjusted  coefficient of determination\n",
        "adjusted_r2_gs=(1-(1-r2_score(y_test,y_pred_test_gs))*((X_test.shape[0]-1)/(X_test.shape[0]-X_test.shape[1]-1)))\n",
        "print('Adjusted R2 :' ,adjusted_r2_gs)"
      ],
      "metadata": {
        "id": "KWfYzZev2X68"
      },
      "execution_count": null,
      "outputs": []
    },
    {
      "cell_type": "code",
      "source": [
        "#Storing\n",
        "gs_dict2={'Model':'Gradient Boosting GridSearchCV','MAE':round(mae_gs,2),'MSE':round(mse_gs,2),'RMSE':round(rmse_gs,2),'R2_score':round(r2_gs,2),'Adjusted R2_score':round(adjusted_r2_gs,2)}\n",
        "test_df=test_df.append(gs_dict2,ignore_index=True)"
      ],
      "metadata": {
        "id": "FlrWX69U2X_N"
      },
      "execution_count": null,
      "outputs": []
    },
    {
      "cell_type": "code",
      "source": [
        "# Heteroscedasticity\n",
        "residuals = y_test - y_pred_test_gs\n",
        "sns.scatterplot(x=y_pred_test_gs, y=residuals,color='salmon')\n",
        "\n",
        "# Add a horizontal line at y=0\n",
        "plt.axhline(y=0, color='red', linestyle='--')\n",
        "\n",
        "\n",
        "plt.xlabel('Predicted Values')\n",
        "plt.ylabel('Residuals')\n",
        "plt.title('Residual Plot')\n",
        "\n",
        "plt.show()"
      ],
      "metadata": {
        "id": "Cp8UQ6DH2YG5"
      },
      "execution_count": null,
      "outputs": []
    },
    {
      "cell_type": "code",
      "source": [
        "plt.figure(figsize=(16,8))\n",
        "plt.scatter(range(len(y_pred_test_gs)),y_pred_test_gs,s=20,c='green',label='Predicted')\n",
        "plt.scatter(range(len(y_test)), y_test, s=20, c='red', label='Actual')\n",
        "plt.legend()\n",
        "plt.xlabel('number of test data')\n",
        "plt.show()"
      ],
      "metadata": {
        "id": "5LjPlPLn2d7Q"
      },
      "execution_count": null,
      "outputs": []
    },
    {
      "cell_type": "code",
      "source": [
        "gs_optimal_model.feature_importances_"
      ],
      "metadata": {
        "id": "Y6zpj_kw2c4A"
      },
      "execution_count": null,
      "outputs": []
    },
    {
      "cell_type": "code",
      "source": [
        "imp = gs_optimal_model.feature_importances_\n",
        "\n",
        "imp_dict = {'Feature' : list(X_train.columns),\n",
        "                   'Feature Importance' : imp}\n",
        "\n",
        "imp_df = pd.DataFrame(imp_dict)"
      ],
      "metadata": {
        "id": "A1K02yyi2c7E"
      },
      "execution_count": null,
      "outputs": []
    },
    {
      "cell_type": "code",
      "source": [
        "imp_df['Feature Importance'] = round(imp_df['Feature Importance'],2)"
      ],
      "metadata": {
        "id": "xaHhFrxP2jwR"
      },
      "execution_count": null,
      "outputs": []
    },
    {
      "cell_type": "code",
      "source": [
        "imp_df.sort_values(by=['Feature Importance'],ascending=False)"
      ],
      "metadata": {
        "id": "Y4ut-ltF2juB"
      },
      "execution_count": null,
      "outputs": []
    },
    {
      "cell_type": "code",
      "source": [
        "features = X_train.columns\n",
        "imp1 = gs_optimal_model.feature_importances_\n",
        "indices = np.argsort(imp1)\n",
        "#Plot the figure\n",
        "plt.figure(figsize=(10,20))\n",
        "plt.title('Feature Importance')\n",
        "plt.barh(range(len(indices)), imp1[indices], color='green', align='center')\n",
        "plt.yticks(range(len(indices)), [features[i] for i in indices])\n",
        "plt.xlabel('Relative Importance')\n"
      ],
      "metadata": {
        "id": "ByiaAjlQ2jrA"
      },
      "execution_count": null,
      "outputs": []
    },
    {
      "cell_type": "markdown",
      "source": [
        "#### 1. Explain the ML Model used and it's performance using Evaluation metric Score Chart."
      ],
      "metadata": {
        "id": "ArJBuiUVfxKd"
      }
    },
    {
      "cell_type": "code",
      "source": [
        "# Visualizing evaluation Metric Score chart"
      ],
      "metadata": {
        "id": "rqD5ZohzfxKe"
      },
      "execution_count": null,
      "outputs": []
    },
    {
      "cell_type": "markdown",
      "source": [
        "#### 2. Cross- Validation & Hyperparameter Tuning"
      ],
      "metadata": {
        "id": "4qY1EAkEfxKe"
      }
    },
    {
      "cell_type": "code",
      "source": [
        "# ML Model - 1 Implementation with hyperparameter optimization techniques (i.e., GridSearch CV, RandomSearch CV, Bayesian Optimization etc.)\n",
        "\n",
        "# Fit the Algorithm\n",
        "\n",
        "# Predict on the model"
      ],
      "metadata": {
        "id": "Dy61ujd6fxKe"
      },
      "execution_count": null,
      "outputs": []
    },
    {
      "cell_type": "markdown",
      "source": [
        "##### Which hyperparameter optimization technique have you used and why?"
      ],
      "metadata": {
        "id": "PiV4Ypx8fxKe"
      }
    },
    {
      "cell_type": "markdown",
      "source": [
        "Answer Here."
      ],
      "metadata": {
        "id": "negyGRa7fxKf"
      }
    },
    {
      "cell_type": "markdown",
      "source": [
        "##### Have you seen any improvement? Note down the improvement with updates Evaluation metric Score Chart."
      ],
      "metadata": {
        "id": "TfvqoZmBfxKf"
      }
    },
    {
      "cell_type": "markdown",
      "source": [
        "Answer Here."
      ],
      "metadata": {
        "id": "OaLui8CcfxKf"
      }
    },
    {
      "cell_type": "markdown",
      "source": [
        "### ML Model - 2"
      ],
      "metadata": {
        "id": "dJ2tPlVmpsJ0"
      }
    },
    {
      "cell_type": "markdown",
      "source": [
        "#### 1. Explain the ML Model used and it's performance using Evaluation metric Score Chart."
      ],
      "metadata": {
        "id": "JWYfwnehpsJ1"
      }
    },
    {
      "cell_type": "code",
      "source": [
        "# Visualizing evaluation Metric Score chart"
      ],
      "metadata": {
        "id": "yEl-hgQWpsJ1"
      },
      "execution_count": null,
      "outputs": []
    },
    {
      "cell_type": "markdown",
      "source": [
        "#### 2. Cross- Validation & Hyperparameter Tuning"
      ],
      "metadata": {
        "id": "-jK_YjpMpsJ2"
      }
    },
    {
      "cell_type": "code",
      "source": [
        "# ML Model - 1 Implementation with hyperparameter optimization techniques (i.e., GridSearch CV, RandomSearch CV, Bayesian Optimization etc.)\n",
        "\n",
        "# Fit the Algorithm\n",
        "\n",
        "# Predict on the model"
      ],
      "metadata": {
        "id": "Dn0EOfS6psJ2"
      },
      "execution_count": null,
      "outputs": []
    },
    {
      "cell_type": "markdown",
      "source": [
        "##### Which hyperparameter optimization technique have you used and why?"
      ],
      "metadata": {
        "id": "HAih1iBOpsJ2"
      }
    },
    {
      "cell_type": "markdown",
      "source": [
        "Answer Here."
      ],
      "metadata": {
        "id": "9kBgjYcdpsJ2"
      }
    },
    {
      "cell_type": "markdown",
      "source": [
        "##### Have you seen any improvement? Note down the improvement with updates Evaluation metric Score Chart."
      ],
      "metadata": {
        "id": "zVGeBEFhpsJ2"
      }
    },
    {
      "cell_type": "markdown",
      "source": [
        "Answer Here."
      ],
      "metadata": {
        "id": "74yRdG6UpsJ3"
      }
    },
    {
      "cell_type": "markdown",
      "source": [
        "#### 3. Explain each evaluation metric's indication towards business and the business impact pf the ML model used."
      ],
      "metadata": {
        "id": "bmKjuQ-FpsJ3"
      }
    },
    {
      "cell_type": "markdown",
      "source": [
        "Answer Here."
      ],
      "metadata": {
        "id": "BDKtOrBQpsJ3"
      }
    },
    {
      "cell_type": "markdown",
      "source": [
        "### ML Model - 3"
      ],
      "metadata": {
        "id": "Fze-IPXLpx6K"
      }
    },
    {
      "cell_type": "code",
      "source": [
        "# ML Model - 3 Implementation\n",
        "\n",
        "# Fit the Algorithm\n",
        "\n",
        "# Predict on the model"
      ],
      "metadata": {
        "id": "FFrSXAtrpx6M"
      },
      "execution_count": null,
      "outputs": []
    },
    {
      "cell_type": "markdown",
      "source": [
        "#### 1. Explain the ML Model used and it's performance using Evaluation metric Score Chart."
      ],
      "metadata": {
        "id": "7AN1z2sKpx6M"
      }
    },
    {
      "cell_type": "code",
      "source": [
        "# Visualizing evaluation Metric Score chart"
      ],
      "metadata": {
        "id": "xIY4lxxGpx6M"
      },
      "execution_count": null,
      "outputs": []
    },
    {
      "cell_type": "markdown",
      "source": [
        "#### 2. Cross- Validation & Hyperparameter Tuning"
      ],
      "metadata": {
        "id": "9PIHJqyupx6M"
      }
    },
    {
      "cell_type": "code",
      "source": [
        "# ML Model - 3 Implementation with hyperparameter optimization techniques (i.e., GridSearch CV, RandomSearch CV, Bayesian Optimization etc.)\n",
        "\n",
        "# Fit the Algorithm\n",
        "\n",
        "# Predict on the model"
      ],
      "metadata": {
        "id": "eSVXuaSKpx6M"
      },
      "execution_count": null,
      "outputs": []
    },
    {
      "cell_type": "markdown",
      "source": [
        "##### Which hyperparameter optimization technique have you used and why?"
      ],
      "metadata": {
        "id": "_-qAgymDpx6N"
      }
    },
    {
      "cell_type": "markdown",
      "source": [
        "Answer Here."
      ],
      "metadata": {
        "id": "lQMffxkwpx6N"
      }
    },
    {
      "cell_type": "markdown",
      "source": [
        "##### Have you seen any improvement? Note down the improvement with updates Evaluation metric Score Chart."
      ],
      "metadata": {
        "id": "Z-hykwinpx6N"
      }
    },
    {
      "cell_type": "markdown",
      "source": [
        "Answer Here."
      ],
      "metadata": {
        "id": "MzVzZC6opx6N"
      }
    },
    {
      "cell_type": "markdown",
      "source": [
        "### 1. Which Evaluation metrics did you consider for a positive business impact and why?"
      ],
      "metadata": {
        "id": "h_CCil-SKHpo"
      }
    },
    {
      "cell_type": "markdown",
      "source": [
        "Answer Here."
      ],
      "metadata": {
        "id": "jHVz9hHDKFms"
      }
    },
    {
      "cell_type": "markdown",
      "source": [
        "### 2. Which ML model did you choose from the above created models as your final prediction model and why?"
      ],
      "metadata": {
        "id": "cBFFvTBNJzUa"
      }
    },
    {
      "cell_type": "markdown",
      "source": [
        "Answer Here."
      ],
      "metadata": {
        "id": "6ksF5Q1LKTVm"
      }
    },
    {
      "cell_type": "markdown",
      "source": [
        "### 3. Explain the model which you have used and the feature importance using any model explainability tool?"
      ],
      "metadata": {
        "id": "HvGl1hHyA_VK"
      }
    },
    {
      "cell_type": "markdown",
      "source": [
        "Answer Here."
      ],
      "metadata": {
        "id": "YnvVTiIxBL-C"
      }
    },
    {
      "cell_type": "markdown",
      "source": [
        "## ***8.*** ***Future Work (Optional)***"
      ],
      "metadata": {
        "id": "EyNgTHvd2WFk"
      }
    },
    {
      "cell_type": "markdown",
      "source": [
        "### 1. Save the best performing ml model in a pickle file or joblib file format for deployment process.\n"
      ],
      "metadata": {
        "id": "KH5McJBi2d8v"
      }
    },
    {
      "cell_type": "code",
      "source": [
        "# Save the File"
      ],
      "metadata": {
        "id": "bQIANRl32f4J"
      },
      "execution_count": null,
      "outputs": []
    },
    {
      "cell_type": "markdown",
      "source": [
        "### 2. Again Load the saved model file and try to predict unseen data for a sanity check.\n"
      ],
      "metadata": {
        "id": "iW_Lq9qf2h6X"
      }
    },
    {
      "cell_type": "code",
      "source": [
        "# Load the File and predict unseen data."
      ],
      "metadata": {
        "id": "oEXk9ydD2nVC"
      },
      "execution_count": null,
      "outputs": []
    },
    {
      "cell_type": "markdown",
      "source": [
        "### ***Congrats! Your model is successfully created and ready for deployment on a live server for a real user interaction !!!***"
      ],
      "metadata": {
        "id": "-Kee-DAl2viO"
      }
    },
    {
      "cell_type": "markdown",
      "source": [
        "# **Conclusion**"
      ],
      "metadata": {
        "id": "gCX9965dhzqZ"
      }
    },
    {
      "cell_type": "markdown",
      "source": [
        "Write the conclusion here."
      ],
      "metadata": {
        "id": "Fjb1IsQkh3yE"
      }
    },
    {
      "cell_type": "markdown",
      "source": [
        "### ***Hurrah! You have successfully completed your Machine Learning Capstone Project !!!***"
      ],
      "metadata": {
        "id": "gIfDvo9L0UH2"
      }
    }
  ]
}